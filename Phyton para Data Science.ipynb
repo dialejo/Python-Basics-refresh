{
  "nbformat": 4,
  "nbformat_minor": 0,
  "metadata": {
    "colab": {
      "provenance": [],
      "authorship_tag": "ABX9TyNx+tu4twEuhkBR5HqpFSxP",
      "include_colab_link": true
    },
    "kernelspec": {
      "name": "python3",
      "display_name": "Python 3"
    },
    "language_info": {
      "name": "python"
    }
  },
  "cells": [
    {
      "cell_type": "markdown",
      "metadata": {
        "id": "view-in-github",
        "colab_type": "text"
      },
      "source": [
        "<a href=\"https://colab.research.google.com/github/dialejo/Python-Basics-refresh/blob/main/Phyton%20para%20Data%20Science.ipynb\" target=\"_parent\"><img src=\"https://colab.research.google.com/assets/colab-badge.svg\" alt=\"Open In Colab\"/></a>"
      ]
    },
    {
      "cell_type": "markdown",
      "source": [
        "##Phyton para Data Science"
      ],
      "metadata": {
        "id": "-HVTjbYNUd6r"
      }
    },
    {
      "cell_type": "markdown",
      "source": [
        "#### Hola mundo"
      ],
      "metadata": {
        "id": "GEFNosIdW7Fy"
      }
    },
    {
      "cell_type": "code",
      "source": [
        "print('¡Hola mundo!')"
      ],
      "metadata": {
        "colab": {
          "base_uri": "https://localhost:8080/"
        },
        "id": "v_KmPA2oW4dR",
        "outputId": "c552f694-b83c-4de6-c6fd-f024a9af384c"
      },
      "execution_count": null,
      "outputs": [
        {
          "output_type": "stream",
          "name": "stdout",
          "text": [
            "¡Hola mundo!\n"
          ]
        }
      ]
    },
    {
      "cell_type": "code",
      "source": [
        "print('Me llamo Díego, estoy repasando un poco phyton')"
      ],
      "metadata": {
        "colab": {
          "base_uri": "https://localhost:8080/"
        },
        "id": "10HhK_agYYNf",
        "outputId": "73f7837d-6e7b-44fe-88c2-fb8fb8359466"
      },
      "execution_count": null,
      "outputs": [
        {
          "output_type": "stream",
          "name": "stdout",
          "text": [
            "Me llamo Díego, estoy repasando un poco phyton\n"
          ]
        }
      ]
    },
    {
      "cell_type": "markdown",
      "source": [
        "1. imprimiendo la frase \"Escuela de Datos de Alura\""
      ],
      "metadata": {
        "id": "60S6BZ-gZjzx"
      }
    },
    {
      "cell_type": "code",
      "source": [
        "print('\"Escuela de Datos de Alura\"')"
      ],
      "metadata": {
        "colab": {
          "base_uri": "https://localhost:8080/"
        },
        "id": "bRnCPkxsZeeY",
        "outputId": "e3b6f11a-f06a-4283-d295-8038f02169e3"
      },
      "execution_count": null,
      "outputs": [
        {
          "output_type": "stream",
          "name": "stdout",
          "text": [
            "\"Escuela de Datos de Alura\"\n"
          ]
        }
      ]
    },
    {
      "cell_type": "markdown",
      "source": [
        "2. Imprimiendo mi nombre y apellido"
      ],
      "metadata": {
        "id": "2CoQkCvNZ5H0"
      }
    },
    {
      "cell_type": "code",
      "source": [
        "n = 'Diego'\n",
        "a = 'maldonado'\n",
        "\n",
        "print('Nombre: ' + n)\n",
        "print('Apellido: ' + a)"
      ],
      "metadata": {
        "colab": {
          "base_uri": "https://localhost:8080/"
        },
        "id": "w6EWwxDKZ-bI",
        "outputId": "d74a9019-e22e-4c2f-a534-ef8c627b9f06"
      },
      "execution_count": null,
      "outputs": [
        {
          "output_type": "stream",
          "name": "stdout",
          "text": [
            "Nombre: Diego\n",
            "Apellido: maldonado\n"
          ]
        }
      ]
    },
    {
      "cell_type": "markdown",
      "source": [
        "3. Imprimiendo Nombre Letra por letra"
      ],
      "metadata": {
        "id": "rLIKuJfga7Lj"
      }
    },
    {
      "cell_type": "code",
      "source": [
        "print('D','I','E','G','O', sep ='\\n')"
      ],
      "metadata": {
        "colab": {
          "base_uri": "https://localhost:8080/"
        },
        "id": "a21i4m2cbARF",
        "outputId": "c45023dc-31b6-4668-855c-a37fccf12e84"
      },
      "execution_count": null,
      "outputs": [
        {
          "output_type": "stream",
          "name": "stdout",
          "text": [
            "D\n",
            "I\n",
            "E\n",
            "G\n",
            "O\n"
          ]
        }
      ]
    },
    {
      "cell_type": "markdown",
      "source": [
        "4. imprimiendo fecha de nacimiento en formato dia mes año"
      ],
      "metadata": {
        "id": "RJf5Duvqdu0n"
      }
    },
    {
      "cell_type": "code",
      "source": [
        "print(f'{27} Marzo {2025}')\n",
        "print(27,' Marzo ',2025)"
      ],
      "metadata": {
        "colab": {
          "base_uri": "https://localhost:8080/"
        },
        "id": "QlVwBz8Vd3ao",
        "outputId": "96b154e2-e65c-42bb-b755-2e39ec2c805f"
      },
      "execution_count": null,
      "outputs": [
        {
          "output_type": "stream",
          "name": "stdout",
          "text": [
            "27 Marzo 2025\n",
            "27  Marzo  2025\n"
          ]
        }
      ]
    },
    {
      "cell_type": "markdown",
      "source": [
        "5. Imprimiendo el año actual"
      ],
      "metadata": {
        "id": "NHD3FP-0q6I6"
      }
    },
    {
      "cell_type": "code",
      "source": [
        "from datetime import datetime\n",
        "año = datetime.now().year\n",
        "print(f'Año actual: {año}')\n",
        "print('Año actual:', año)"
      ],
      "metadata": {
        "colab": {
          "base_uri": "https://localhost:8080/"
        },
        "id": "I4bPQD00rKhG",
        "outputId": "cebb901b-383e-4265-bc18-4c72433c5fc6"
      },
      "execution_count": null,
      "outputs": [
        {
          "output_type": "stream",
          "name": "stdout",
          "text": [
            "Año actual: 2025\n",
            "Año actual:  2025\n"
          ]
        }
      ]
    },
    {
      "cell_type": "markdown",
      "source": [
        "##Variables"
      ],
      "metadata": {
        "id": "KwTHHWzRywTU"
      }
    },
    {
      "cell_type": "markdown",
      "source": [
        "ejemplo de variables"
      ],
      "metadata": {
        "id": "Ov5UMqjDyzB9"
      }
    },
    {
      "cell_type": "code",
      "source": [
        "d = 5\n",
        "c = 'diego'\n",
        "\n",
        "print(id(d))\n",
        "print(id(c))"
      ],
      "metadata": {
        "colab": {
          "base_uri": "https://localhost:8080/"
        },
        "id": "tDT9PMsUy26-",
        "outputId": "c7fa25d0-f686-4d21-c46c-c5e454535942"
      },
      "execution_count": null,
      "outputs": [
        {
          "output_type": "stream",
          "name": "stdout",
          "text": [
            "10750984\n",
            "136839110404272\n"
          ]
        }
      ]
    },
    {
      "cell_type": "markdown",
      "source": [
        "comentarios:"
      ],
      "metadata": {
        "id": "Ayln090Y2OhG"
      }
    },
    {
      "cell_type": "code",
      "source": [
        "#comentario de una linea\n",
        "'''\n",
        "Este es un comentario\n",
        "de varias lineas\n",
        "'''"
      ],
      "metadata": {
        "id": "IyiVogeN2Noj"
      },
      "execution_count": null,
      "outputs": []
    },
    {
      "cell_type": "markdown",
      "source": [
        "#Tipos de Variable"
      ],
      "metadata": {
        "id": "nAwkzV2T3cq-"
      }
    },
    {
      "cell_type": "markdown",
      "source": [
        "type() funcion, te dara el tipo de variable"
      ],
      "metadata": {
        "id": "0vfqVkoc3gfi"
      }
    },
    {
      "cell_type": "code",
      "source": [
        "edad = 5\n",
        "promedio = 3.4\n",
        "nombre = 'Diego'\n",
        "print(type(edad), type(promedio),type(nombre))\n"
      ],
      "metadata": {
        "colab": {
          "base_uri": "https://localhost:8080/"
        },
        "id": "m-Meq-Q_3gI6",
        "outputId": "b861e35a-9cbd-474e-d093-cbfed9785305"
      },
      "execution_count": null,
      "outputs": [
        {
          "output_type": "stream",
          "name": "stdout",
          "text": [
            "<class 'int'> <class 'float'> <class 'str'>\n"
          ]
        }
      ]
    },
    {
      "cell_type": "markdown",
      "source": [
        "### Ejemplo calculos"
      ],
      "metadata": {
        "id": "mGj8xF7Y79QK"
      }
    },
    {
      "cell_type": "code",
      "source": [
        "c_vigilante = 5\n",
        "s_vigilante = 300\n",
        "\n",
        "c_docente = 16\n",
        "s_docente = 500\n",
        "\n",
        "c_coordinador = 2\n",
        "s_coordinador = 600\n",
        "\n",
        "total_empleados = c_vigilante + c_docente + c_coordinador\n",
        "diferencia_salarios = s_coordinador - s_vigilante\n",
        "promedio_salario = (c_vigilante*s_vigilante + c_docente*s_docente\n",
        "                    + c_coordinador*s_coordinador)/total_empleados\n",
        "\n",
        "print(total_empleados,diferencia_salarios,promedio_salario)"
      ],
      "metadata": {
        "colab": {
          "base_uri": "https://localhost:8080/"
        },
        "id": "RHXKp_Os6HNV",
        "outputId": "66627ab7-dda2-455f-bef2-6c30ec53eb00"
      },
      "execution_count": null,
      "outputs": [
        {
          "output_type": "stream",
          "name": "stdout",
          "text": [
            "23 300 465.2173913043478\n"
          ]
        }
      ]
    },
    {
      "cell_type": "markdown",
      "source": [
        "##Strings"
      ],
      "metadata": {
        "id": "RDW7ip6HtkYy"
      }
    },
    {
      "cell_type": "markdown",
      "source": [
        "Un string es una cadena de caracteres alfanuméricos."
      ],
      "metadata": {
        "id": "xL9uLeUztozi"
      }
    },
    {
      "cell_type": "code",
      "source": [
        "t = 'Alura'\n",
        "type(t)"
      ],
      "metadata": {
        "colab": {
          "base_uri": "https://localhost:8080/"
        },
        "id": "Ua0Z52H8tx7a",
        "outputId": "16fa4f91-9bf6-45ee-b735-0505da80f19d"
      },
      "execution_count": null,
      "outputs": [
        {
          "output_type": "execute_result",
          "data": {
            "text/plain": [
              "str"
            ]
          },
          "metadata": {},
          "execution_count": 1
        }
      ]
    },
    {
      "cell_type": "markdown",
      "source": [
        "###Metodos\n",
        "\n",
        "para usar un metodo se utiliza la variable seguido de . y el nombre del metodo que se usara"
      ],
      "metadata": {
        "id": "ySt7kNzPue4r"
      }
    },
    {
      "cell_type": "code",
      "source": [
        "texto = ' Micaela Sanyos '"
      ],
      "metadata": {
        "id": "SSILENPkvAor"
      },
      "execution_count": null,
      "outputs": []
    },
    {
      "cell_type": "code",
      "source": [
        "id(texto)"
      ],
      "metadata": {
        "colab": {
          "base_uri": "https://localhost:8080/"
        },
        "id": "mF22jCSOvfkp",
        "outputId": "a873af18-76b0-4551-eabc-264ac506d996"
      },
      "execution_count": null,
      "outputs": [
        {
          "output_type": "execute_result",
          "data": {
            "text/plain": [
              "133735582200048"
            ]
          },
          "metadata": {},
          "execution_count": 5
        }
      ]
    },
    {
      "cell_type": "code",
      "source": [
        "texto.upper()"
      ],
      "metadata": {
        "colab": {
          "base_uri": "https://localhost:8080/",
          "height": 35
        },
        "id": "6hD98TiBv1_p",
        "outputId": "ca43519f-1b3f-4983-a518-48a5d8d6ceb5"
      },
      "execution_count": null,
      "outputs": [
        {
          "output_type": "execute_result",
          "data": {
            "text/plain": [
              "' MICAELA SANYOS '"
            ],
            "application/vnd.google.colaboratory.intrinsic+json": {
              "type": "string"
            }
          },
          "metadata": {},
          "execution_count": 6
        }
      ]
    },
    {
      "cell_type": "code",
      "source": [
        "texto.lower()"
      ],
      "metadata": {
        "colab": {
          "base_uri": "https://localhost:8080/",
          "height": 35
        },
        "id": "1ooH3muAwENu",
        "outputId": "5a72be70-71a2-496e-cc22-b668610010bc"
      },
      "execution_count": null,
      "outputs": [
        {
          "output_type": "execute_result",
          "data": {
            "text/plain": [
              "' micaela sanyos '"
            ],
            "application/vnd.google.colaboratory.intrinsic+json": {
              "type": "string"
            }
          },
          "metadata": {},
          "execution_count": 7
        }
      ]
    },
    {
      "cell_type": "code",
      "source": [
        "texto.strip()"
      ],
      "metadata": {
        "colab": {
          "base_uri": "https://localhost:8080/",
          "height": 35
        },
        "id": "Ky6vSrpcwYhs",
        "outputId": "1d727afc-574b-44fa-9dab-ab0b6f089850"
      },
      "execution_count": null,
      "outputs": [
        {
          "output_type": "execute_result",
          "data": {
            "text/plain": [
              "'Micaela Sanyos'"
            ],
            "application/vnd.google.colaboratory.intrinsic+json": {
              "type": "string"
            }
          },
          "metadata": {},
          "execution_count": 8
        }
      ]
    },
    {
      "cell_type": "code",
      "source": [
        "texto.replace('y','t')"
      ],
      "metadata": {
        "colab": {
          "base_uri": "https://localhost:8080/",
          "height": 35
        },
        "id": "y11CO2IPwoEN",
        "outputId": "405156e6-5213-45b3-db5b-25f5e8538d62"
      },
      "execution_count": null,
      "outputs": [
        {
          "output_type": "execute_result",
          "data": {
            "text/plain": [
              "' Micaela Santos '"
            ],
            "application/vnd.google.colaboratory.intrinsic+json": {
              "type": "string"
            }
          },
          "metadata": {},
          "execution_count": 9
        }
      ]
    },
    {
      "cell_type": "markdown",
      "source": [
        "Siempre apuntar la variable a una nueva para que se tome la modificacion"
      ],
      "metadata": {
        "id": "p--Q8DjoxdSw"
      }
    },
    {
      "cell_type": "code",
      "source": [
        "nuevo_texto = texto.strip().replace('y','t').upper()\n",
        "print(nuevo_texto)\n",
        "print(id(nuevo_texto))\n",
        "print(id(texto))"
      ],
      "metadata": {
        "colab": {
          "base_uri": "https://localhost:8080/"
        },
        "id": "g3wN_UnTxb3h",
        "outputId": "db7243f1-15bd-49d1-eeef-75c846328759"
      },
      "execution_count": null,
      "outputs": [
        {
          "output_type": "stream",
          "name": "stdout",
          "text": [
            "MICAELA SANTOS\n",
            "133736006220208\n",
            "133735582200048\n"
          ]
        }
      ]
    },
    {
      "cell_type": "code",
      "source": [
        "texto = texto.strip().replace('y','t').upper()\n",
        "print(nuevo_texto)\n",
        "print(id(nuevo_texto))\n",
        "print(id(texto))"
      ],
      "metadata": {
        "colab": {
          "base_uri": "https://localhost:8080/"
        },
        "id": "Wi9URraNyd5x",
        "outputId": "765a17ce-d5fc-4591-bc4d-78a467ece5f6"
      },
      "execution_count": null,
      "outputs": [
        {
          "output_type": "stream",
          "name": "stdout",
          "text": [
            "MICAELA SANTOS\n",
            "133736006220208\n",
            "133735580464112\n"
          ]
        }
      ]
    },
    {
      "cell_type": "markdown",
      "source": [
        "##Calculos Matematicos"
      ],
      "metadata": {
        "id": "-5VFT8qAzZ31"
      }
    },
    {
      "cell_type": "markdown",
      "source": [
        "potencia **\n",
        "\n",
        "Podemos elevar un número a una potencia específica utilizando el operador **. Para obtener este resultado, definimos un valor a la izquierda del operador y la potencia deseada del número a la derecha. Por ejemplo, sabemos que 2 elevado a la 3 es igual a 8 (2 * 2 * 2 = 8)."
      ],
      "metadata": {
        "id": "MVuELmsK0Y_L"
      }
    },
    {
      "cell_type": "code",
      "source": [
        "exponentecuadrado = 2**2\n",
        "print(exponentecuadrado)\n",
        "operador = 2\n",
        "potencia = 3\n",
        "print(operador ** potencia)"
      ],
      "metadata": {
        "colab": {
          "base_uri": "https://localhost:8080/"
        },
        "id": "w5dgW-yszk97",
        "outputId": "8b26f816-527a-4d8f-b102-86d9a81d9743"
      },
      "execution_count": null,
      "outputs": [
        {
          "output_type": "stream",
          "name": "stdout",
          "text": [
            "4\n",
            "8\n"
          ]
        }
      ]
    },
    {
      "cell_type": "markdown",
      "source": [
        "modulo %\n",
        "\n",
        "El operador de módulo % puede devolver el residuo de una división entera entre dos números. Recuerda que el residuo de una división es el número que queda cuando la división no es exacta.\n",
        "\n",
        "Para calcular el módulo de una división, colocamos el dividendo a la izquierda del operador % y el divisor a la derecha. Por ejemplo, para encontrar el residuo de la división de 7 entre 3"
      ],
      "metadata": {
        "id": "Lvlinr0f0bLd"
      }
    },
    {
      "cell_type": "code",
      "source": [
        "print(7%3)\n",
        "dividendo = 7\n",
        "divisor = 3\n",
        "print(dividendo % divisor)"
      ],
      "metadata": {
        "colab": {
          "base_uri": "https://localhost:8080/"
        },
        "id": "e9Epytpt0anf",
        "outputId": "08a0a2bd-8d16-4c2f-eba4-e0e44c9e7baa"
      },
      "execution_count": null,
      "outputs": [
        {
          "output_type": "stream",
          "name": "stdout",
          "text": [
            "1\n",
            "1\n"
          ]
        }
      ]
    },
    {
      "cell_type": "markdown",
      "source": [
        "Division entera (//)\n",
        "\n",
        "Esta operación devuelve el resultado de la división entera entre dos números, es decir, solo devuelve la parte entera de una división. Por ejemplo, sabemos que la división exacta de 7 por 3 (7/3) resulta en el valor 2.333333.... Si esta fuera una división entera, el resultado sería simplemente 2. La sintaxis consiste en colocar el valor del numerador, el operador // y luego el denominador"
      ],
      "metadata": {
        "id": "rZjK3Kfo1UzR"
      }
    },
    {
      "cell_type": "code",
      "source": [
        "numerador = 7\n",
        "denominador = 3\n",
        "print(numerador//denominador)"
      ],
      "metadata": {
        "id": "wJPPfmZQ1aGj",
        "colab": {
          "base_uri": "https://localhost:8080/"
        },
        "outputId": "85d1c538-1438-4f86-d226-86f6a2870b04"
      },
      "execution_count": null,
      "outputs": [
        {
          "output_type": "stream",
          "name": "stdout",
          "text": [
            "2\n"
          ]
        }
      ]
    },
    {
      "cell_type": "markdown",
      "source": [
        "##Colectando Datos"
      ],
      "metadata": {
        "id": "oC6yB5-l5N2B"
      }
    },
    {
      "cell_type": "code",
      "source": [
        "nombre = input('cual es tu nombre:')"
      ],
      "metadata": {
        "colab": {
          "base_uri": "https://localhost:8080/"
        },
        "id": "V34FeXL15Sby",
        "outputId": "23535ea1-69d0-427e-88f2-6d59851c0d8e"
      },
      "execution_count": null,
      "outputs": [
        {
          "name": "stdout",
          "output_type": "stream",
          "text": [
            "cual es tu nombre:Diego\n"
          ]
        }
      ]
    },
    {
      "cell_type": "code",
      "source": [
        "type(nombre)"
      ],
      "metadata": {
        "colab": {
          "base_uri": "https://localhost:8080/"
        },
        "id": "hMw-2Uy75i0w",
        "outputId": "306e2930-c37d-4ee3-bb9f-72bc8ffe263d"
      },
      "execution_count": null,
      "outputs": [
        {
          "output_type": "execute_result",
          "data": {
            "text/plain": [
              "str"
            ]
          },
          "metadata": {},
          "execution_count": 20
        }
      ]
    },
    {
      "cell_type": "code",
      "source": [
        "ano_admision = int(input('digita el año de admision: '))\n",
        "ano_salida = int(input('digita el año de salida: '))\n",
        "print('duraste ',ano_salida-ano_admision,'años estudiando')\n",
        "print(f'el año de admision fue {ano_admision}')"
      ],
      "metadata": {
        "colab": {
          "base_uri": "https://localhost:8080/"
        },
        "id": "_DywFK1u5u7f",
        "outputId": "7c8832f7-f126-4c6f-c859-3faa7d17096d"
      },
      "execution_count": null,
      "outputs": [
        {
          "output_type": "stream",
          "name": "stdout",
          "text": [
            "digita el año de admision: 2009\n",
            "digita el año de salida: 2014\n",
            "duraste  5 años estudiando\n",
            "el año de admision fue 2009\n"
          ]
        }
      ]
    },
    {
      "cell_type": "markdown",
      "source": [
        "1. Crea un programa que solicite al usuario que escriba su nombre y luego imprima hola nombre"
      ],
      "metadata": {
        "id": "14OHZ2Bs8F0u"
      }
    },
    {
      "cell_type": "code",
      "source": [
        "nombre = input('cual es tu nombre: ')\n",
        "print('hola ',nombre)"
      ],
      "metadata": {
        "colab": {
          "base_uri": "https://localhost:8080/"
        },
        "id": "5EFxdDNw8N9q",
        "outputId": "da253e3e-4a3a-43b9-e821-88048282b7be"
      },
      "execution_count": null,
      "outputs": [
        {
          "output_type": "stream",
          "name": "stdout",
          "text": [
            "cual es tu nombre: Diego\n",
            "hola  Diego\n"
          ]
        }
      ]
    },
    {
      "cell_type": "markdown",
      "source": [
        "2. Crea un programa que solicite al usuario que escriba su nombre y edad, y luego imprima \"Hola, [nombre], tienes [edad] años.\""
      ],
      "metadata": {
        "id": "RX0Gw9XQ810N"
      }
    },
    {
      "cell_type": "code",
      "source": [
        "nombre_usuario = input('cual es tu nombre: ')\n",
        "edad = int(input('cual es tu edad: '))\n",
        "\n",
        "print('hola,',nombre,', tienes ',edad,'años')"
      ],
      "metadata": {
        "colab": {
          "base_uri": "https://localhost:8080/"
        },
        "id": "mPw-SV-r8kIs",
        "outputId": "52b5e1b6-ee04-43aa-dd82-aad771592de5"
      },
      "execution_count": null,
      "outputs": [
        {
          "output_type": "stream",
          "name": "stdout",
          "text": [
            "cual es tu nombre: Diego\n",
            "cual es tu edad: 33\n",
            "hola, Diego , tienes  33 años\n"
          ]
        }
      ]
    },
    {
      "cell_type": "markdown",
      "source": [
        "3. Crea un programa que solicite al usuario que escriba su nombre, edad y altura en metros, y luego imprima \"Hola, [nombre], tienes [edad] años y mides [altura] metros.\""
      ],
      "metadata": {
        "id": "j0sDKDI_9lku"
      }
    },
    {
      "cell_type": "code",
      "source": [
        "nombre_usuario_nuevo = input('cual es tu nombre: ')\n",
        "edad_usuario = int(input('cual es tu edad: '))\n",
        "Altura_usuario = float(input('cual es tu altura en metros: '))\n",
        "\n",
        "print('hola,',nombre,', tienes ',edad,'años y mides',Altura_usuario,'años')"
      ],
      "metadata": {
        "colab": {
          "base_uri": "https://localhost:8080/"
        },
        "id": "4EuJUC0T9qaq",
        "outputId": "3db86e29-269f-42bd-82cf-18237df86554"
      },
      "execution_count": null,
      "outputs": [
        {
          "output_type": "stream",
          "name": "stdout",
          "text": [
            "cual es tu nombre: Diego\n",
            "cual es tu edad: 33\n",
            "cual es tu altura en metros: 1.79\n",
            "hola, Diego , tienes  33 años y mides 1.79 años\n"
          ]
        }
      ]
    },
    {
      "cell_type": "markdown",
      "source": [
        "4. Crea un programa que solicite dos valores numéricos al usuario y luego imprima la suma de ambos valores."
      ],
      "metadata": {
        "id": "BORHxRFf-p96"
      }
    },
    {
      "cell_type": "code",
      "source": [
        "numerouno = int(input('ingrese un numero: '))\n",
        "numerodos = int(input('ingrese el segundo numero: '))\n",
        "\n",
        "print('la suma de los dos numeros es:',(numerouno+numerodos))"
      ],
      "metadata": {
        "colab": {
          "base_uri": "https://localhost:8080/"
        },
        "id": "SrOu46Uo95cG",
        "outputId": "680ac11b-7769-473d-d46c-00d40c8a4650"
      },
      "execution_count": null,
      "outputs": [
        {
          "output_type": "stream",
          "name": "stdout",
          "text": [
            "ingrese un numero: 3\n",
            "ingrese el segundo numero: 5\n",
            "la suma de los dos numeros es: 8\n"
          ]
        }
      ]
    },
    {
      "cell_type": "markdown",
      "source": [
        "5. Crea un programa que solicite tres valores numéricos al usuario y luego imprima la suma de los tres valores."
      ],
      "metadata": {
        "id": "oG2cwZD4_r2l"
      }
    },
    {
      "cell_type": "code",
      "source": [
        "numerouno = int(input('ingrese un numero: '))\n",
        "numerodos = int(input('ingrese el segundo numero: '))\n",
        "numerotres = int(input('ingrese el tercer numero: '))\n",
        "\n",
        "print('la suma de los tres numeros es:',(numerouno+numerodos+numerotres))"
      ],
      "metadata": {
        "colab": {
          "base_uri": "https://localhost:8080/"
        },
        "id": "XpYHYM_V_w9K",
        "outputId": "1571aeb1-d1bf-4f4a-e0d6-36039a06f5e9"
      },
      "execution_count": null,
      "outputs": [
        {
          "output_type": "stream",
          "name": "stdout",
          "text": [
            "ingrese un numero: 4\n",
            "ingrese el segundo numero: 5\n",
            "ingrese el tercer numero: 6\n",
            "la suma de los tres numeros es: 15\n"
          ]
        }
      ]
    },
    {
      "cell_type": "markdown",
      "source": [
        "6. Crea un programa que solicite dos valores numéricos al usuario y luego imprima la resta del primero menos el segundo valor."
      ],
      "metadata": {
        "id": "D21Bh0MWAD_9"
      }
    },
    {
      "cell_type": "code",
      "source": [
        "numerouno = int(input('ingrese un numero: '))\n",
        "numerodos = int(input('ingrese el segundo numero: '))\n",
        "\n",
        "print('la resta de los dos numeros es:',(numerouno-numerodos))"
      ],
      "metadata": {
        "colab": {
          "base_uri": "https://localhost:8080/"
        },
        "id": "5TQaApMDAPl3",
        "outputId": "679f7783-8e74-4879-f91b-4a8cf3b83278"
      },
      "execution_count": null,
      "outputs": [
        {
          "output_type": "stream",
          "name": "stdout",
          "text": [
            "ingrese un numero: 10\n",
            "ingrese el segundo numero: 4\n",
            "la resta de los dos numeros es: 6\n"
          ]
        }
      ]
    },
    {
      "cell_type": "markdown",
      "source": [
        "7. Crea un programa que solicite dos valores numéricos al usuario y luego imprima la multiplicación de los dos valores."
      ],
      "metadata": {
        "id": "UFhlffA5Aljn"
      }
    },
    {
      "cell_type": "code",
      "source": [
        "numerouno = int(input('ingrese un numero: '))\n",
        "numerodos = int(input('ingrese el segundo numero: '))\n",
        "\n",
        "print('la multiplicación de los dos numeros:',(numerouno*numerodos))"
      ],
      "metadata": {
        "colab": {
          "base_uri": "https://localhost:8080/"
        },
        "id": "xIbIBbW8Axt-",
        "outputId": "e5e0bf9e-a892-4e87-a487-33b0d8de23b1"
      },
      "execution_count": null,
      "outputs": [
        {
          "output_type": "stream",
          "name": "stdout",
          "text": [
            "ingrese un numero: 2\n",
            "ingrese el segundo numero: 2\n",
            "la multiplicación de los dos numeros: 4\n"
          ]
        }
      ]
    },
    {
      "cell_type": "markdown",
      "source": [
        "8. Crea un programa que solicite dos valores numéricos, un numerador y un denominador, y realice la división entre los dos valores. Asegúrate de que el valor del denominador no sea igual a 0."
      ],
      "metadata": {
        "id": "UJJhRKJCBGyu"
      }
    },
    {
      "cell_type": "code",
      "source": [
        "numerador = int(input('ingrese un numero: '))\n",
        "denominador = int(input('ingrese el segundo numero: '))\n",
        "\n",
        "if denominador == 0:\n",
        "  denominador = int(input('el numero debe ser diferente de cero :'))\n",
        "else:\n",
        "  denominador = denominador\n",
        "\n",
        "print('la division de los dos numeros es:',(numerador/denominador))"
      ],
      "metadata": {
        "id": "iSgTqQwpBMeA",
        "colab": {
          "base_uri": "https://localhost:8080/"
        },
        "outputId": "567da7e0-8dc8-4aaf-8125-70fa2f527b98"
      },
      "execution_count": null,
      "outputs": [
        {
          "output_type": "stream",
          "name": "stdout",
          "text": [
            "ingrese un numero: 5\n",
            "ingrese el segundo numero: 2\n",
            "la division de los dos numeros es: 2.5\n"
          ]
        }
      ]
    },
    {
      "cell_type": "markdown",
      "source": [
        "9. Crea un programa que solicite dos valores numéricos, un operador y una potencia, y realice la exponenciación entre estos dos valores."
      ],
      "metadata": {
        "id": "5uyvvqF3DbF6"
      }
    },
    {
      "cell_type": "code",
      "source": [
        "operador = int(input('ingrese un numero: '))\n",
        "potencia = int(input('ingrese la potencia: '))\n",
        "\n",
        "print('la multiplicación de los dos numeros:',(operador**potencia))"
      ],
      "metadata": {
        "colab": {
          "base_uri": "https://localhost:8080/"
        },
        "id": "-NYZz_uZDfs_",
        "outputId": "037e5a03-4c8d-40c4-d893-5bd72c32d9ee"
      },
      "execution_count": null,
      "outputs": [
        {
          "output_type": "stream",
          "name": "stdout",
          "text": [
            "ingrese un numero: 2\n",
            "ingrese la potencia: 2\n",
            "la multiplicación de los dos numeros: 4\n"
          ]
        }
      ]
    },
    {
      "cell_type": "markdown",
      "source": [
        "10.  Crea un programa que solicite dos valores numéricos, un numerador y un denominador, y realice la división entera entre los dos valores. Asegúrate de que el valor del denominador no sea igual a 0."
      ],
      "metadata": {
        "id": "Je_q8akFD8hP"
      }
    },
    {
      "cell_type": "code",
      "source": [
        "numerador = int(input('ingrese un numero: '))\n",
        "denominador = int(input('ingrese el segundo numero: '))\n",
        "\n",
        "if denominador == 0:\n",
        "  denominador = int(input('el numero debe ser diferente de cero :'))\n",
        "else:\n",
        "  denominador = denominador\n",
        "\n",
        "print('la division de los dos numeros es:',(numerador/denominador))"
      ],
      "metadata": {
        "colab": {
          "base_uri": "https://localhost:8080/"
        },
        "id": "Y-CyPHP2D_xC",
        "outputId": "e7634686-be67-4e61-ac57-737105c188c6"
      },
      "execution_count": null,
      "outputs": [
        {
          "output_type": "stream",
          "name": "stdout",
          "text": [
            "ingrese un numero: 3\n",
            "ingrese el segundo numero: 0\n",
            "el numero debe ser diferente de cero :2\n",
            "la division de los dos numeros es: 1.5\n"
          ]
        }
      ]
    },
    {
      "cell_type": "markdown",
      "source": [
        "11. Crea un programa que solicite dos valores numéricos, un numerador y un denominador, y devuelva el resto de la división entre los dos valores. Asegúrate de que el valor del denominador no sea igual a 0."
      ],
      "metadata": {
        "id": "eZLiYZpwEZwo"
      }
    },
    {
      "cell_type": "code",
      "source": [
        "numerador = int(input('ingrese un numero: '))\n",
        "denominador = int(input('ingrese el segundo numero: '))\n",
        "\n",
        "if denominador == 0:\n",
        "  denominador = int(input('el numero debe ser diferente de cero :'))\n",
        "else:\n",
        "  denominador = denominador\n",
        "\n",
        "print('el residuo de los dos numeros es:',(numerador%denominador))"
      ],
      "metadata": {
        "colab": {
          "base_uri": "https://localhost:8080/"
        },
        "id": "AxCui60FEfy0",
        "outputId": "ea96a887-6bfb-4fac-f539-ef2b365f5efd"
      },
      "execution_count": null,
      "outputs": [
        {
          "output_type": "stream",
          "name": "stdout",
          "text": [
            "ingrese un numero: 6\n",
            "ingrese el segundo numero: 3\n",
            "el residuo de los dos numeros es: 0\n"
          ]
        }
      ]
    },
    {
      "cell_type": "markdown",
      "source": [
        "12. Crea un código que solicite las 3 notas de un estudiante e imprima el promedio de las notas."
      ],
      "metadata": {
        "id": "kMPH-IL-E0wJ"
      }
    },
    {
      "cell_type": "code",
      "source": [
        "n_matematicas = float(input('ingrese la nota de matematicas: '))\n",
        "n_sociales = float(input('ingrese la nota de sociales: '))\n",
        "n_fisica = float(input('ingrese la nota de fisica: '))\n",
        "\n",
        "print('el promedio de tus notas son:',(n_fisica+n_matematicas+n_sociales)/3)"
      ],
      "metadata": {
        "colab": {
          "base_uri": "https://localhost:8080/"
        },
        "id": "n02RvRA7E4hI",
        "outputId": "b5555dbd-802d-4054-b5e1-822bab3c8a5c"
      },
      "execution_count": null,
      "outputs": [
        {
          "output_type": "stream",
          "name": "stdout",
          "text": [
            "ingrese la nota de matematicas: 3\n",
            "ingrese la nota de sociales: 3.2\n",
            "ingrese la nota de fisica: 5\n",
            "el promedio de tus notas son: 3.733333333333333\n"
          ]
        }
      ]
    },
    {
      "cell_type": "markdown",
      "source": [
        "13. Crea un código que calcule e imprima el promedio ponderado de los números 5, 12, 20 y 15 con pesos respectivamente iguales a 1, 2, 3 y 4."
      ],
      "metadata": {
        "id": "TIOuIVdNxb18"
      }
    },
    {
      "cell_type": "code",
      "source": [
        "n_matematicas = 5*1\n",
        "n_sociales = 12*2\n",
        "n_fisica = 20*3\n",
        "n_quimica = 15*4\n",
        "\n",
        "print('el promedio de tus notas son:',(n_fisica+n_matematicas+n_sociales+n_quimica)/((1+2+3+4)))"
      ],
      "metadata": {
        "colab": {
          "base_uri": "https://localhost:8080/"
        },
        "id": "XMS9gObCxhJu",
        "outputId": "d465e86d-ab86-40c4-99ca-2987d7f42af4"
      },
      "execution_count": null,
      "outputs": [
        {
          "output_type": "stream",
          "name": "stdout",
          "text": [
            "el promedio de tus notas son: 14.9\n"
          ]
        }
      ]
    },
    {
      "cell_type": "markdown",
      "source": [
        "14.  Crea una variable llamada \"frase\" y asígnale una cadena de texto de tu elección. Luego, imprime la frase en pantalla."
      ],
      "metadata": {
        "id": "XF1bHeqIzX_0"
      }
    },
    {
      "cell_type": "code",
      "source": [
        "frase = 'la frase, es lo mas importante de colombia'\n",
        "print(frase)"
      ],
      "metadata": {
        "colab": {
          "base_uri": "https://localhost:8080/"
        },
        "id": "E2bjoNT1zhc2",
        "outputId": "2ad8e3ff-698f-463a-f9ea-634bb940a3be"
      },
      "execution_count": null,
      "outputs": [
        {
          "output_type": "stream",
          "name": "stdout",
          "text": [
            "la frase, es lo mas importante de colombia\n"
          ]
        }
      ]
    },
    {
      "cell_type": "markdown",
      "source": [
        "15. Crea un código que solicite una frase y luego imprima la frase en pantalla."
      ],
      "metadata": {
        "id": "ICm_L8PWz7MV"
      }
    },
    {
      "cell_type": "code",
      "source": [
        "frase_usuario = input('ingresa un frase: ')\n",
        "print(frase_usuario)"
      ],
      "metadata": {
        "colab": {
          "base_uri": "https://localhost:8080/"
        },
        "id": "K5v1up2e0Dl0",
        "outputId": "68485d7a-f7eb-416e-ef67-97c6489c8da6"
      },
      "execution_count": null,
      "outputs": [
        {
          "output_type": "stream",
          "name": "stdout",
          "text": [
            "ingresa un frase: la frase como el comodin del amor\n",
            "la frase como el comodin del amor\n"
          ]
        }
      ]
    },
    {
      "cell_type": "markdown",
      "source": [
        "16. Crea un código que solicite una frase al usuario y luego imprima la misma frase ingresada pero en mayúsculas."
      ],
      "metadata": {
        "id": "5YaEb4Rc0A6-"
      }
    },
    {
      "cell_type": "code",
      "source": [
        "frase_ingresada = input('ingrese una frase: ')\n",
        "frase_nueva = frase_ingresada.upper()\n",
        "print(frase_nueva)"
      ],
      "metadata": {
        "colab": {
          "base_uri": "https://localhost:8080/"
        },
        "id": "oV4zsQ0q0cyb",
        "outputId": "e9896a10-a0e3-4c9d-8e0b-a2bacf948a74"
      },
      "execution_count": null,
      "outputs": [
        {
          "output_type": "stream",
          "name": "stdout",
          "text": [
            "ingrese una frase: frase como el comodin del amor\n",
            "FRASE COMO EL COMODIN DEL AMOR\n"
          ]
        }
      ]
    },
    {
      "cell_type": "markdown",
      "source": [
        "17. Crea un código que solicite una frase al usuario y luego imprima la misma frase ingresada pero en minúsculas."
      ],
      "metadata": {
        "id": "67LkiXp21T7M"
      }
    },
    {
      "cell_type": "code",
      "source": [
        "frase_ingresada = input('ingrese una frase: ')\n",
        "frase_nueva = frase_ingresada.lower()\n",
        "print(frase_nueva)"
      ],
      "metadata": {
        "colab": {
          "base_uri": "https://localhost:8080/"
        },
        "id": "5fLMEMXT1XSs",
        "outputId": "d92d990b-791f-4a5a-e930-58a7b0b3a6cb"
      },
      "execution_count": null,
      "outputs": [
        {
          "output_type": "stream",
          "name": "stdout",
          "text": [
            "ingrese una frase: HOLA CAMALEON COMO ESTAS?\n",
            "hola camaleon como estas?\n"
          ]
        }
      ]
    },
    {
      "cell_type": "markdown",
      "source": [
        "18. Crea una variable llamada \"frase\" y asígnale una cadena de texto de tu elección. Luego, imprime la frase sin espacios en blanco al principio y al final."
      ],
      "metadata": {
        "id": "rm6crYKQ1oTO"
      }
    },
    {
      "cell_type": "code",
      "source": [
        "frase_con_espacios = ' Diego es un buen estudiandte '\n",
        "frase_nueva = frase_con_espacios.strip()\n",
        "print(frase_nueva)"
      ],
      "metadata": {
        "colab": {
          "base_uri": "https://localhost:8080/"
        },
        "id": "a0Fkdcl91tAC",
        "outputId": "7c282167-7625-4f1c-bc71-c559a86c3589"
      },
      "execution_count": null,
      "outputs": [
        {
          "output_type": "stream",
          "name": "stdout",
          "text": [
            "Diego es un buen estudiandte\n"
          ]
        }
      ]
    },
    {
      "cell_type": "markdown",
      "source": [
        "19. Crea un código que solicite una frase al usuario y luego imprima la misma frase sin espacios en blanco al principio y al final."
      ],
      "metadata": {
        "id": "YS9F8kjy2O_Y"
      }
    },
    {
      "cell_type": "code",
      "source": [
        "frase_ingresada = input('ingrese una frase: ')\n",
        "frase_nueva = frase_ingresada.strip()\n",
        "print(frase_nueva)"
      ],
      "metadata": {
        "colab": {
          "base_uri": "https://localhost:8080/"
        },
        "id": "Cp-K3dwf2Tbq",
        "outputId": "4acbc79e-0ccb-4ff9-a4b8-8ec2eb777eed"
      },
      "execution_count": null,
      "outputs": [
        {
          "output_type": "stream",
          "name": "stdout",
          "text": [
            "ingrese una frase:   Oliver es un gato negro y cariñoso.  \n",
            "Oliver es un gato negro y cariñoso.\n"
          ]
        }
      ]
    },
    {
      "cell_type": "markdown",
      "source": [
        "20. Crea un código que solicite una frase al usuario y luego imprima la misma frase sin espacios en blanco al principio y al final, además de convertirla a minúsculas."
      ],
      "metadata": {
        "id": "tdd3uUn_2_TT"
      }
    },
    {
      "cell_type": "code",
      "source": [
        "frase_ingresada = input('ingrese una frase: ')\n",
        "frase_nueva = frase_ingresada.strip().lower()\n",
        "print(frase_nueva)"
      ],
      "metadata": {
        "colab": {
          "base_uri": "https://localhost:8080/"
        },
        "id": "5VwU4q8h3Fl_",
        "outputId": "2d7ca087-0d5c-4d41-bac3-dc4020d2e614"
      },
      "execution_count": null,
      "outputs": [
        {
          "output_type": "stream",
          "name": "stdout",
          "text": [
            "ingrese una frase:    DIEGO ES EL MEJOR ESTUDIANTE. \n",
            "diego es el mejor estudiante.\n"
          ]
        }
      ]
    },
    {
      "cell_type": "markdown",
      "source": [
        "21. Crea un código que solicite una frase al usuario y luego imprima la misma frase con todas las vocales \"e\" reemplazadas por la letra \"f\"."
      ],
      "metadata": {
        "id": "A1Dx_IKH3zSW"
      }
    },
    {
      "cell_type": "code",
      "source": [
        "frase_ingresada = input('ingrese una frase: ')\n",
        "frase_nueva = frase_ingresada.strip().lower().replace('e','f')\n",
        "print(frase_nueva)"
      ],
      "metadata": {
        "colab": {
          "base_uri": "https://localhost:8080/"
        },
        "id": "g7UKK5G333iR",
        "outputId": "5b8f6138-0034-4857-e03d-7c1dbd04cdce"
      },
      "execution_count": null,
      "outputs": [
        {
          "output_type": "stream",
          "name": "stdout",
          "text": [
            "ingrese una frase:  DIEGO ES EL MEJOR ESTUDIANTE DE ONE \n",
            "difgo fs fl mfjor fstudiantf df onf\n"
          ]
        }
      ]
    },
    {
      "cell_type": "markdown",
      "source": [
        "22. Crea un código que solicite una frase al usuario y luego imprima la misma frase con todas las vocales \"a\" reemplazadas por el carácter \"@\"."
      ],
      "metadata": {
        "id": "B8m63n3L4Y9r"
      }
    },
    {
      "cell_type": "code",
      "source": [
        "frase_ingresada = input('ingrese una frase: ')\n",
        "frase_nueva = frase_ingresada.strip().lower().replace('a','@')\n",
        "print(frase_nueva)"
      ],
      "metadata": {
        "colab": {
          "base_uri": "https://localhost:8080/"
        },
        "id": "p13_fIus4d_M",
        "outputId": "e68aef96-8781-4c69-f03e-3c2c6b833a1f"
      },
      "execution_count": null,
      "outputs": [
        {
          "output_type": "stream",
          "name": "stdout",
          "text": [
            "ingrese una frase: OLIVER ES UN GATO MUY JUICIOSO Y CARIÑOSO \n",
            "oliver es un g@to muy juicioso y c@riñoso\n"
          ]
        }
      ]
    },
    {
      "cell_type": "markdown",
      "source": [
        "23. Crea un código que solicite una frase al usuario y luego imprima la misma frase con todas las consonantes \"s\" reemplazadas por el carácter \"$\"."
      ],
      "metadata": {
        "id": "lVuulcTu41EW"
      }
    },
    {
      "cell_type": "code",
      "source": [
        "frase_ingresada = input('ingrese una frase: ')\n",
        "frase_nueva = frase_ingresada.strip().lower().replace('s','$')\n",
        "print(frase_nueva)"
      ],
      "metadata": {
        "colab": {
          "base_uri": "https://localhost:8080/"
        },
        "id": "LmZju35645B6",
        "outputId": "15f46812-e0c2-43ab-b403-af7e78bf7cb0"
      },
      "execution_count": null,
      "outputs": [
        {
          "output_type": "stream",
          "name": "stdout",
          "text": [
            "ingrese una frase: Maria es una estudiante muy inteligente se esfuerza mucho \n",
            "maria e$ una e$tudiante muy inteligente $e e$fuerza mucho\n"
          ]
        }
      ]
    },
    {
      "cell_type": "markdown",
      "source": [
        "##Estructuras condicionales IF & ELSE"
      ],
      "metadata": {
        "id": "4UKE8Nje6m-U"
      }
    },
    {
      "cell_type": "markdown",
      "source": [
        "¿Qué es una estructura condicional?\n",
        "\n",
        "*   Es una estructura que controla el flujo del programa.\n",
        "*   Permite ejecutar diferentes bloques de código según si una condición es verdadera o falsa."
      ],
      "metadata": {
        "id": "AVM4RlX39u0C"
      }
    },
    {
      "cell_type": "code",
      "source": [
        "# Nota de aprobacion entre 7 y 8\n",
        "# Nota de reprobacion es menor a 7\n",
        "\n",
        "\"\"\"\n",
        "aca podemos comentar tambien\n",
        "\"\"\"\n",
        "\n",
        "nota_Diego = 1.5\n",
        "\n",
        "if nota_Diego >= 7:\n",
        "  print('Aprobo')\n",
        "else :\n",
        "  print('desaprobo')"
      ],
      "metadata": {
        "colab": {
          "base_uri": "https://localhost:8080/"
        },
        "id": "RMilDb5a6p05",
        "outputId": "29437d5d-e575-4582-f68a-0242fcc6d250"
      },
      "execution_count": null,
      "outputs": [
        {
          "output_type": "stream",
          "name": "stdout",
          "text": [
            "desaprobo\n"
          ]
        }
      ]
    },
    {
      "cell_type": "code",
      "source": [
        "Edad_Juan = int(input('cual es la edad de Juan: '))\n",
        "Edad_Diego= int(input('cual es la edad de Diego: '))\n",
        "\n",
        "if Edad_Juan > Edad_Diego:\n",
        "  print('Juan es mayor que Diego')\n",
        "else :\n",
        "  print('Diego es mayor que Juan')"
      ],
      "metadata": {
        "colab": {
          "base_uri": "https://localhost:8080/"
        },
        "id": "0Lk8P9wX-_LA",
        "outputId": "2f9b670e-7b2a-4525-b184-59c8abf03f34"
      },
      "execution_count": null,
      "outputs": [
        {
          "output_type": "stream",
          "name": "stdout",
          "text": [
            "cual es la edad de Juan: 5\n",
            "cual es la edad de Diego: 6\n",
            "Diego es mayor que Juan\n"
          ]
        }
      ]
    },
    {
      "cell_type": "markdown",
      "source": [
        "Mayor que (>)\n",
        "\n",
        "\n",
        "*   Devuelve verdadero si el valor a la izquierda del símbolo es mayor que el de la derecha. Su sintaxis, valor_1 > valor_2, representa una comparación que solo será verdadera si valor_1 es mayor que valor_2.\n"
      ],
      "metadata": {
        "id": "SIgCnMNgBRaF"
      }
    },
    {
      "cell_type": "code",
      "source": [
        "edad_maria = int(input('Ingrese la edad de María: '))\n",
        "edad_beatriz = int(input('Ingrese la edad de Beatriz: '))\n",
        "\n",
        "if edad_maria > edad_beatriz:\n",
        "  print('María es mayor que Beatriz.')\n"
      ],
      "metadata": {
        "colab": {
          "base_uri": "https://localhost:8080/"
        },
        "id": "_Siv3ujmBKyu",
        "outputId": "31d4b507-ac9c-48f7-f4d8-b22b169c0b8b"
      },
      "execution_count": null,
      "outputs": [
        {
          "output_type": "stream",
          "name": "stdout",
          "text": [
            "Ingrese la edad de María: 6\n",
            "Ingrese la edad de Beatriz: 5\n",
            "María es mayor que Beatriz.\n"
          ]
        }
      ]
    },
    {
      "cell_type": "markdown",
      "source": [
        "\n",
        "Menor que (<)\n",
        "\n",
        "*   Devuelve verdadero si el valor a la izquierda del símbolo es menor que el de la derecha. Su sintaxis es valor_1 < valor_2. Esta comparación solo será verdadera si valor_1 es menor que valor_2."
      ],
      "metadata": {
        "id": "sWVqkDZTBaDC"
      }
    },
    {
      "cell_type": "code",
      "source": [
        "edad_maria = int(input('Ingrese la edad de María: '))\n",
        "edad_beatriz = int(input('Ingrese la edad de Beatriz: '))\n",
        "\n",
        "if edad_maria < edad_beatriz:\n",
        "  print('María es menor que Beatriz.')\n"
      ],
      "metadata": {
        "colab": {
          "base_uri": "https://localhost:8080/"
        },
        "id": "PPHlD9enBgSK",
        "outputId": "758389e4-8671-4e9f-e366-3c1df45c8a48"
      },
      "execution_count": null,
      "outputs": [
        {
          "output_type": "stream",
          "name": "stdout",
          "text": [
            "Ingrese la edad de María: 6\n",
            "Ingrese la edad de Beatriz: 7\n",
            "María es menor que Beatriz.\n"
          ]
        }
      ]
    },
    {
      "cell_type": "markdown",
      "source": [
        "Mayor o igual a (>=)\n",
        "\n",
        "\n",
        "*   Devuelve verdadero si el valor a la izquierda del símbolo es mayor o igual al valor a la derecha. Su sintaxis es valor_1 >= valor_2. Esta comparación solo será verdadera si valor_1 es mayor o igual a valor_2."
      ],
      "metadata": {
        "id": "3ePZRK4FBrKX"
      }
    },
    {
      "cell_type": "code",
      "source": [
        "empleados_empresa_1 = int(input('Ingrese la cantidad de empleados de la empresa 1: '))\n",
        "empleados_empresa_2 = int(input('Ingrese la cantidad de empleados de la empresa 2: '))\n",
        "\n",
        "if empleados_empresa_1 >= empleados_empresa_2:\n",
        "  print('La empresa 1 tiene una cantidad de empleados mayor o igual a la empresa 2.')\n"
      ],
      "metadata": {
        "colab": {
          "base_uri": "https://localhost:8080/"
        },
        "id": "8vJiu5nqBz_6",
        "outputId": "7a4f2280-b06b-40ce-e55b-e1fe15948753"
      },
      "execution_count": null,
      "outputs": [
        {
          "output_type": "stream",
          "name": "stdout",
          "text": [
            "Ingrese la cantidad de empleados de la empresa 1: 9\n",
            "Ingrese la cantidad de empleados de la empresa 2: 2\n",
            "La empresa 1 tiene una cantidad de empleados mayor o igual a la empresa 2.\n"
          ]
        }
      ]
    },
    {
      "cell_type": "markdown",
      "source": [
        "Menor o igual a (<=)\n",
        "\n",
        "\n",
        "*   Devuelve verdadero si el valor a la izquierda del símbolo es menor o igual al valor de la derecha. Su sintaxis es valor_1 <= valor_2. Esta comparación solo será verdadera si valor_1 es menor o igual a valor_2."
      ],
      "metadata": {
        "id": "oFv0eraIB6ZP"
      }
    },
    {
      "cell_type": "code",
      "source": [
        "empleados_empresa_1 = int(input('Ingrese la cantidad de empleados de la empresa 1: '))\n",
        "empleados_empresa_2 = int(input('Ingrese la cantidad de empleados de la empresa 2: '))\n",
        "\n",
        "if empleados_empresa_1 <= empleados_empresa_2:\n",
        "  print('La empresa 1 tiene una cantidad de empleados menor o igual a la empresa 2.')\n"
      ],
      "metadata": {
        "colab": {
          "base_uri": "https://localhost:8080/"
        },
        "id": "ld5xk8dbCCeM",
        "outputId": "35413990-4928-4cb9-f071-beff28cec92c"
      },
      "execution_count": null,
      "outputs": [
        {
          "output_type": "stream",
          "name": "stdout",
          "text": [
            "Ingrese la cantidad de empleados de la empresa 1: 6\n",
            "Ingrese la cantidad de empleados de la empresa 2: 7\n",
            "La empresa 1 tiene una cantidad de empleados menor o igual a la empresa 2.\n"
          ]
        }
      ]
    },
    {
      "cell_type": "markdown",
      "source": [
        "\n",
        "Igual a (==)\n",
        "\n",
        "\n",
        "*   Devuelve verdadero si el valor a la izquierda del símbolo es igual al valor de la derecha. Su sintaxis, valor_1 == valor_2, representa una comparación que solo será verdadera si valor_1 es igual a valor_2.\n"
      ],
      "metadata": {
        "id": "PkMiyGEOCPa0"
      }
    },
    {
      "cell_type": "code",
      "source": [
        "libro_1 = input('Ingrese el título del 1° libro: ')\n",
        "libro_2 = input('Ingrese el título del 2° libro: ')\n",
        "\n",
        "if libro_1 == libro_2:\n",
        "  print('Los libros tienen el mismo título.')\n"
      ],
      "metadata": {
        "colab": {
          "base_uri": "https://localhost:8080/"
        },
        "id": "phZca08DCX-i",
        "outputId": "a50f2c39-626c-4a22-8b8a-45c602eef760"
      },
      "execution_count": null,
      "outputs": [
        {
          "output_type": "stream",
          "name": "stdout",
          "text": [
            "Ingrese el título del 1° libro: PRINCIPITO\n",
            "Ingrese el título del 2° libro: PRINCIPITO\n",
            "Los libros tienen el mismo título.\n"
          ]
        }
      ]
    },
    {
      "cell_type": "markdown",
      "source": [
        "Diferente de (!=)\n",
        "\n",
        "\n",
        "*   Devuelve verdadero si el valor a la izquierda del símbolo es diferente del valor a la derecha. Su sintaxis, valor_1 != valor_2, representa una comparación que solo será verdadera si valor_1 es diferente de valor_2."
      ],
      "metadata": {
        "id": "XzikEUaPCiBB"
      }
    },
    {
      "cell_type": "code",
      "source": [
        "libro_1 = input('Ingrese el título del 1° libro: ')\n",
        "libro_2 = input('Ingrese el título del 2° libro: ')\n",
        "\n",
        "if libro_1 != libro_2:\n",
        "  print('Los libros tienen títulos diferentes.')\n"
      ],
      "metadata": {
        "colab": {
          "base_uri": "https://localhost:8080/"
        },
        "id": "xe-51TeFCnXa",
        "outputId": "7c6a779e-b15b-41f7-8424-98989dcad92e"
      },
      "execution_count": null,
      "outputs": [
        {
          "output_type": "stream",
          "name": "stdout",
          "text": [
            "Ingrese el título del 1° libro: PRINCIPITO\n",
            "Ingrese el título del 2° libro: LA SOLEDAD\n",
            "Los libros tienen títulos diferentes.\n"
          ]
        }
      ]
    },
    {
      "cell_type": "markdown",
      "source": [
        "## elif"
      ],
      "metadata": {
        "id": "gWNTEmxwaJ7l"
      }
    },
    {
      "cell_type": "code",
      "source": [
        "nota_Diego = float(input('cual es la nota de Diego: '))\n",
        "\n",
        "if nota_Diego >= 7:\n",
        "  print('Aprobo')\n",
        "elif nota_Diego >= 5:\n",
        "  print('curso recuperación')\n",
        "else:\n",
        "  print('Reaprobo')"
      ],
      "metadata": {
        "colab": {
          "base_uri": "https://localhost:8080/"
        },
        "id": "4vo90NLJDLpU",
        "outputId": "4144a766-29aa-43ca-9446-4ac21150f605"
      },
      "execution_count": null,
      "outputs": [
        {
          "output_type": "stream",
          "name": "stdout",
          "text": [
            "cual es la nota de Diego: 5.6\n",
            "curso recuperación\n"
          ]
        }
      ]
    },
    {
      "cell_type": "markdown",
      "source": [
        "## Operadores logicos\n",
        "\n",
        "AND, OR, NOT"
      ],
      "metadata": {
        "id": "xdEbhLSZdILA"
      }
    },
    {
      "cell_type": "code",
      "source": [
        "v = True\n",
        "f = False\n",
        "\n",
        "if v and f:\n",
        "  print('la condición es verdadera')\n",
        "else:\n",
        "  print('falsa')\n",
        "\n",
        "if v or f:\n",
        "  print('la condición es verdadera')\n",
        "else:\n",
        "  print('falsa')\n",
        "\n",
        "if not v:\n",
        "  print('la condición es verdadera')\n",
        "else:\n",
        "  print('falsa')"
      ],
      "metadata": {
        "colab": {
          "base_uri": "https://localhost:8080/"
        },
        "id": "-8g4DXphdR4n",
        "outputId": "9d41ce16-fe93-45a9-aa3a-1a6ffc2a4154"
      },
      "execution_count": null,
      "outputs": [
        {
          "output_type": "stream",
          "name": "stdout",
          "text": [
            "falsa\n",
            "la condición es verdadera\n",
            "falsa\n"
          ]
        }
      ]
    },
    {
      "cell_type": "code",
      "source": [
        "lista = 'Juan Pérez, Maria Gonzalez, Pedro Rodriguez, Ana Lopéz, Carlos Martinez, Laura Sanchez'"
      ],
      "metadata": {
        "id": "LyvSiqsAg3Th"
      },
      "execution_count": null,
      "outputs": []
    },
    {
      "cell_type": "code",
      "source": [
        "nombre_1 = 'Maria Gonzalez'\n",
        "nombre_2 = 'Marcelo Noguera'\n",
        "\n",
        "if nombre_2 in lista:\n",
        "  print('El estudiante aprobo')\n",
        "else:\n",
        "  print('El estudiante reprobó')\n",
        "\n",
        "if nombre_1 in lista:\n",
        "  print('El estudiante aprobo')\n",
        "else:\n",
        "  print('El estudiante reprobó')"
      ],
      "metadata": {
        "colab": {
          "base_uri": "https://localhost:8080/"
        },
        "id": "XTa6ZT8BhNAt",
        "outputId": "77b0e2ee-57bf-482d-a730-f52169cae9e0"
      },
      "execution_count": null,
      "outputs": [
        {
          "output_type": "stream",
          "name": "stdout",
          "text": [
            "El estudiante reprobó\n",
            "El estudiante aprobo\n"
          ]
        }
      ]
    },
    {
      "cell_type": "markdown",
      "source": [
        "1. Escribe un programa que pida a la persona usuaria que proporcione dos números y muestre el número más grande."
      ],
      "metadata": {
        "id": "upIPjUtiiTBZ"
      }
    },
    {
      "cell_type": "code",
      "source": [
        "numero_uno = float(input('ingrese el numero 1: '))\n",
        "numero_dos = float(input('ingrese el numero 2: '))\n",
        "\n",
        "if numero_uno > numero_dos:\n",
        "  print('el primer numero ingresado es mayor que el segundo')\n",
        "else:\n",
        "  print('el segundo munero ingresado es mayor que el primero')\n"
      ],
      "metadata": {
        "colab": {
          "base_uri": "https://localhost:8080/"
        },
        "id": "5pLYnE_4iXII",
        "outputId": "b4030bbd-7643-4e59-e4e4-775185d18cc1"
      },
      "execution_count": null,
      "outputs": [
        {
          "output_type": "stream",
          "name": "stdout",
          "text": [
            "ingrese el numero 1: 6\n",
            "ingrese el numero 2: 7\n",
            "el segundo munero ingresado es mayor que el primero\n"
          ]
        }
      ]
    },
    {
      "cell_type": "markdown",
      "source": [
        "2. Escribe un programa que solicite el porcentaje de crecimiento de producción de una empresa e informe si hubo un crecimiento (porcentaje positivo) o una disminución (porcentaje negativo)."
      ],
      "metadata": {
        "id": "JQO5-hb9ix1Q"
      }
    },
    {
      "cell_type": "code",
      "source": [
        "porcentage_crecimiento = input('ingrese el porcentaje de crecimiento: ')\n",
        "porcentage_crecimiento_clean = porcentage_crecimiento.strip().replace(\"%\",\"\")\n",
        "porcetange_crecimiento_fix2 = float(porcentage_crecimiento_clean)\n",
        "\n",
        "if porcetange_crecimiento_fix2 > 0:\n",
        "  print('porcentaje crecimiento positivo')\n",
        "elif porcetange_crecimiento_fix2 == 0:\n",
        "  print('no hubo crecimiento')\n",
        "else :\n",
        "  print('porcentaje de crecimiento negativo')"
      ],
      "metadata": {
        "colab": {
          "base_uri": "https://localhost:8080/"
        },
        "id": "dKwf9g7xi_q8",
        "outputId": "9aad02ac-d3c5-4aa6-b43d-0dd6d2825236"
      },
      "execution_count": null,
      "outputs": [
        {
          "output_type": "stream",
          "name": "stdout",
          "text": [
            "ingrese el porcentaje de crecimiento: -3%\n",
            "porcentaje de crecimiento negativo\n"
          ]
        }
      ]
    },
    {
      "cell_type": "markdown",
      "source": [
        "3. Escribe un programa que determine si una letra proporcionada por la persona usuaria es una vocal o una consonante."
      ],
      "metadata": {
        "id": "fALA7SrVloK-"
      }
    },
    {
      "cell_type": "code",
      "source": [
        "listavocales = 'a,e,i,o,u'\n",
        "Letra_usuario = input('ingrese solo una letra: ')\n",
        "Letra_usuario_clean = Letra_usuario.lower().strip()\n",
        "\n",
        "if Letra_usuario_clean in listavocales:\n",
        "  print('la letra ',Letra_usuario,' es una vocal')\n",
        "else:\n",
        "  print('la letra ',Letra_usuario,' es una consonante')"
      ],
      "metadata": {
        "colab": {
          "base_uri": "https://localhost:8080/"
        },
        "id": "-5lTwWSelth8",
        "outputId": "e655b65b-0f1c-4504-f460-81eb71168680"
      },
      "execution_count": null,
      "outputs": [
        {
          "output_type": "stream",
          "name": "stdout",
          "text": [
            "ingrese solo una letra: C\n",
            "la letra  C  es una consonante\n"
          ]
        }
      ]
    },
    {
      "cell_type": "markdown",
      "source": [
        "4. Escribe un programa que lea valores promedio de precios de un modelo de automóvil durante 3 años consecutivos y muestre el valor más alto y más bajo entre esos tres años."
      ],
      "metadata": {
        "id": "kg4OnZU3nJRG"
      }
    },
    {
      "cell_type": "code",
      "source": [
        "preciofor_2023 = int(input('ingrese el valor del ford en 2023: '))\n",
        "preciofor_2024 = int(input('ingrese el valor del ford en 2024: '))\n",
        "preciofor_2025 = int(input('ingrese el valor del ford en 2025: '))\n",
        "\n",
        "if preciofor_2023 > preciofor_2024 and preciofor_2023 > preciofor_2025:\n",
        "  print('el precio de ford del 2023 es el mayor')\n",
        "elif preciofor_2024 > preciofor_2025 and preciofor_2024 > preciofor_2023:\n",
        "   print('el precio de ford del 2024 es el mayor')\n",
        "else:\n",
        "  print('el precio de ford del año 2025 es el mayor')\n",
        "\n",
        "if preciofor_2023 < preciofor_2024 and preciofor_2023 < preciofor_2025:\n",
        "  print('el precio de ford del 2023 es el menor')\n",
        "elif preciofor_2024 < preciofor_2025 and preciofor_2024 < preciofor_2023:\n",
        "  print('el precio de ford del 2024 es el menor')\n",
        "else:\n",
        "  print('el precio de ford del año 2025 es el menor')"
      ],
      "metadata": {
        "colab": {
          "base_uri": "https://localhost:8080/"
        },
        "id": "cbNviOVwnR2l",
        "outputId": "24995244-f56f-4328-96b4-c70a60718bb2"
      },
      "execution_count": null,
      "outputs": [
        {
          "output_type": "stream",
          "name": "stdout",
          "text": [
            "ingrese el valor del ford en 2023: 10\n",
            "ingrese el valor del ford en 2024: 14\n",
            "ingrese el valor del ford en 2025: 11\n",
            "el precio de ford del 2024 es el mayor\n",
            "el precio de ford del 2023 es el menor\n"
          ]
        }
      ]
    },
    {
      "cell_type": "markdown",
      "source": [
        "5. Escribe un programa que pregunte sobre el precio de tres productos e indique cuál es el producto más barato para comprar."
      ],
      "metadata": {
        "id": "AkfBg4cVqXtX"
      }
    },
    {
      "cell_type": "code",
      "source": [
        "precio_nevera = int(input('ingrese el valor de la nevera: '))\n",
        "precio_lavadora = int(input('ingrese el valor de la lavadora: '))\n",
        "precio_lavavajillas = int(input('ingrese el valor de la lavavajillas: '))\n",
        "\n",
        "if precio_nevera < precio_lavadora and precio_nevera < precio_lavavajillas:\n",
        "  print('el precio de la nevera es el menor')\n",
        "elif precio_lavadora < precio_nevera and precio_lavadora < precio_lavavajillas:\n",
        "  print('el precio de la lavadora es el menor')\n",
        "else:\n",
        "  print('el precio de las lavavajillas es el menor')\n"
      ],
      "metadata": {
        "colab": {
          "base_uri": "https://localhost:8080/"
        },
        "id": "gaC7GFrMqbiI",
        "outputId": "49837c6f-2e4c-4e2b-f5be-f29db4229a6d"
      },
      "execution_count": null,
      "outputs": [
        {
          "output_type": "stream",
          "name": "stdout",
          "text": [
            "ingrese el valor de la nevera: 10\n",
            "ingrese el valor de la lavadora: 5\n",
            "ingrese el valor de la lavavajillas: 6\n",
            "el precio de la lavadora es el menor\n"
          ]
        }
      ]
    },
    {
      "cell_type": "markdown",
      "source": [
        "6. Escribe un programa que lea tres números y los muestre en orden descendente."
      ],
      "metadata": {
        "id": "576DQBaurvhq"
      }
    },
    {
      "cell_type": "code",
      "source": [
        "\n",
        "a = float(input(\"Ingrese el primer número: \"))\n",
        "b = float(input(\"Ingrese el segundo número: \"))\n",
        "c = float(input(\"Ingrese el tercer número: \"))\n",
        "\n",
        "if a >= b and a >= c:\n",
        "    if b >= c:\n",
        "        print(\"Orden descendente:\", a, b, c)\n",
        "    else:\n",
        "        print(\"Orden descendente:\", a, c, b)\n",
        "elif b >= a and b >= c:\n",
        "    if a >= c:\n",
        "        print(\"Orden descendente:\", b, a, c)\n",
        "    else:\n",
        "        print(\"Orden descendente:\", b, c, a)\n",
        "else:  # c es el mayor\n",
        "    if a >= b:\n",
        "        print(\"Orden descendente:\", c, a, b)\n",
        "    else:\n",
        "        print(\"Orden descendente:\", c, b, a)"
      ],
      "metadata": {
        "colab": {
          "base_uri": "https://localhost:8080/"
        },
        "id": "nrEDjai6r3B5",
        "outputId": "5469e35a-1386-4e88-fbad-0a4aa0aff3a8"
      },
      "execution_count": null,
      "outputs": [
        {
          "output_type": "stream",
          "name": "stdout",
          "text": [
            "Ingrese el primer número: 3\n",
            "Ingrese el segundo número: 4\n",
            "Ingrese el tercer número: 5\n",
            "Orden descendente: 5.0 4.0 3.0\n"
          ]
        }
      ]
    },
    {
      "cell_type": "markdown",
      "source": [
        "7. Escribe un programa que pregunte en qué turno estudia la persona usuaria (\"mañana\", \"tarde\" o \"noche\") y muestre el mensaje \"¡Buenos Días!\", \"¡Buenas Tardes!\", \"¡Buenas Noches!\" o \"Valor Inválido!\", según el caso."
      ],
      "metadata": {
        "id": "S69zyD6wth1K"
      }
    },
    {
      "cell_type": "code",
      "source": [
        "turno_usuario = input('en que turno estudias: ')\n",
        "turno_usuario_clean = turno_usuario.strip().lower()\n",
        "\n",
        "if turno_usuario_clean == 'mañana':\n",
        "  print('¡Buenos Días!')\n",
        "elif turno_usuario_clean == 'tarde':\n",
        "  print('¡Buenas Tardes!')\n",
        "elif turno_usuario_clean == 'noche':\n",
        "  print('¡Buenas Noches!')\n",
        "else:\n",
        "  print('Valor invalido')"
      ],
      "metadata": {
        "colab": {
          "base_uri": "https://localhost:8080/"
        },
        "id": "zKGjs5ButnV7",
        "outputId": "eaa851cd-3fcf-4416-bbe1-a74e3d0baffd"
      },
      "execution_count": null,
      "outputs": [
        {
          "output_type": "stream",
          "name": "stdout",
          "text": [
            "en que turno estudias: noche\n",
            "¡Buenas Noches!\n"
          ]
        }
      ]
    },
    {
      "cell_type": "markdown",
      "source": [
        "8. Escribe un programa que solicite un número entero a la persona usuaria y determine si es par o impar. Pista: Puedes usar el operador módulo (%)."
      ],
      "metadata": {
        "id": "XTrTi6SkvVsK"
      }
    },
    {
      "cell_type": "code",
      "source": [
        "numero = float(input('ingrese un numero: '))\n",
        "if numero%2 > 0:\n",
        "  print('el numero que ingresate es inpar')\n",
        "else:\n",
        "  print('el numero que ingresaste es par')\n"
      ],
      "metadata": {
        "colab": {
          "base_uri": "https://localhost:8080/"
        },
        "id": "XLs27V9xvZiM",
        "outputId": "0c61a977-e2f9-405e-82ff-c5119fb57f92"
      },
      "execution_count": null,
      "outputs": [
        {
          "output_type": "stream",
          "name": "stdout",
          "text": [
            "ingrese un numero: 7\n",
            "el numero que ingresate es inpar\n"
          ]
        }
      ]
    },
    {
      "cell_type": "markdown",
      "source": [
        "9. Escribe un programa que pida un número a la persona usuaria y le informe si es entero o decimal."
      ],
      "metadata": {
        "id": "rpyRDOQiwOpX"
      }
    },
    {
      "cell_type": "code",
      "source": [
        "numero = input('ingrese un numero: ')\n",
        "numero_clean = numero.replace(',','.')\n",
        "numero_arreglado = float(numero_clean)\n",
        "\n",
        "if numero_arreglado == int(numero_arreglado):\n",
        "  print('numero es entero')\n",
        "else:\n",
        "  print('numero es decimal')\n"
      ],
      "metadata": {
        "colab": {
          "base_uri": "https://localhost:8080/"
        },
        "id": "fxvqki4TwTZm",
        "outputId": "e3782dfc-c554-4e6f-cde9-55ac02e21dad"
      },
      "execution_count": null,
      "outputs": [
        {
          "output_type": "stream",
          "name": "stdout",
          "text": [
            "ingrese un numero: 2\n",
            "numero es entero\n"
          ]
        }
      ]
    },
    {
      "cell_type": "markdown",
      "source": [
        "10. Un programa debe ser escrito para leer dos números y luego preguntar a la persona usuaria qué operación desea realizar. El resultado de la operación debe incluir información sobre el número, si es par o impar, positivo o negativo, e entero o decimal."
      ],
      "metadata": {
        "id": "VAF6wkOfUpJ-"
      }
    },
    {
      "cell_type": "code",
      "source": [
        "numero_uno = float(input('ingrese el primer numero: '))\n",
        "numero_dos = float(input('ingrese el segundo numero: '))\n",
        "\n",
        "print('seleccione 1 para una suma', 'seleccione 2 para una multiplicación', 'seleccione 3 para una division', sep ='\\n' )\n",
        "\n",
        "seleccion_usuario = int(input('seleccione la operacion: '))\n",
        "\n",
        "if seleccion_usuario == 1:\n",
        "  numerosumado = numero_uno + numero_dos\n",
        "  print('la suma de los numeros es:',numerosumado)\n",
        "  if numerosumado%2 > 0:\n",
        "    print('numero es impar')\n",
        "    if numerosumado == int(numerosumado):\n",
        "      print('el numero es entero')\n",
        "    else:\n",
        "      print('el numero es decimal')\n",
        "  else:\n",
        "    print('el numero es par')\n",
        "elif seleccion_usuario == 2:\n",
        "  numeromultiplicado = numero_uno * numero_dos\n",
        "  print('la multiplicación de los numeros es:',(numeromultiplicado))\n",
        "  if numeromultiplicado%2 > 0:\n",
        "    print('numero es impar')\n",
        "    if numeromultiplicado == int(numeromultiplicado):\n",
        "      print('el numero es entero')\n",
        "    else:\n",
        "      print('el numero es decimal')\n",
        "  else:\n",
        "    print('el numero es par')\n",
        "else:\n",
        "  numerodividido = numero_uno / numero_dos\n",
        "  print('la division de los numeros es: ',numerodividido)\n",
        "  if numerodividido%2 > 0:\n",
        "    print('numero es impar')\n",
        "    if numerodividido == int(numerodividido):\n",
        "      print('el numero es entero')\n",
        "    else:\n",
        "      print('el numero es decimal')\n",
        "  else:\n",
        "    print('el numero es par')\n"
      ],
      "metadata": {
        "colab": {
          "base_uri": "https://localhost:8080/"
        },
        "id": "td3lit13UxmG",
        "outputId": "e86a039e-7974-41b2-bf75-a2a540ffd0df"
      },
      "execution_count": null,
      "outputs": [
        {
          "output_type": "stream",
          "name": "stdout",
          "text": [
            "ingrese el primer numero: 5\n",
            "ingrese el segundo numero: 7\n",
            "seleccione 1 para una suma\n",
            "seleccione 2 para una multiplicación\n",
            "seleccione 3 para una division\n",
            "seleccione la operacion: 3\n",
            "la division de los numeros es:  0.7142857142857143\n",
            "numero es impar\n",
            "el numero es decimal\n"
          ]
        }
      ]
    },
    {
      "cell_type": "markdown",
      "source": [
        "11. Escribe un programa que pida a la persona usuaria tres números que representan los lados de un triángulo. El programa debe informar si los valores pueden utilizarse para formar un triángulo y, en caso afirmativo, si es equilátero, isósceles o escaleno. Ten en cuenta algunas sugerencias:"
      ],
      "metadata": {
        "id": "ZX3P2xyHZ5Sy"
      }
    },
    {
      "cell_type": "code",
      "source": [
        "import math\n",
        "\n",
        "# Entradas\n",
        "a = float(input('Ingrese el primer número: '))\n",
        "b = float(input('Ingrese el segundo número: '))\n",
        "c = float(input('Ingrese el tercer número: '))\n",
        "\n",
        "lados = sorted([a, b, c])\n",
        "x, y, z = lados\n",
        "\n",
        "# Verificamos si puede formar un triángulo\n",
        "if x + y > z:\n",
        "    print('Los lados pueden formar un triángulo.')\n",
        "\n",
        "    # Verificamos tipo por lados\n",
        "    if x == y == z:\n",
        "        print('Es un triángulo equilátero.')\n",
        "    elif x == y or y == z or x == z:\n",
        "        print('Es un triángulo isósceles.')\n",
        "    else:\n",
        "        print('Es un triángulo escaleno.')\n",
        "\n",
        "    # Verificamos si es rectángulo\n",
        "    if math.isclose(z**2, x**2 + y**2):\n",
        "        print('Además, es un triángulo rectángulo.')\n",
        "else:\n",
        "    print('No se puede formar un triángulo con esas medidas.')\n"
      ],
      "metadata": {
        "id": "Mgr6A6AzaD94",
        "colab": {
          "base_uri": "https://localhost:8080/"
        },
        "outputId": "a2a61e36-e874-4a43-e47e-5bd254d307e6"
      },
      "execution_count": null,
      "outputs": [
        {
          "output_type": "stream",
          "name": "stdout",
          "text": [
            "Ingrese el primer número: 7\n",
            "Ingrese el segundo número: 6\n",
            "Ingrese el tercer número: 5\n",
            "Los lados pueden formar un triángulo.\n",
            "Es un triángulo escaleno.\n"
          ]
        }
      ]
    },
    {
      "cell_type": "markdown",
      "source": [
        "12. Un establecimiento está vendiendo combustibles con descuentos variables. Para el etanol, si la cantidad comprada es de hasta 15 litros, el descuento será del 2% por litro. En caso contrario, será del 4% por litro. Para el diésel, si la cantidad comprada es de hasta 15 litros, el descuento será del 3% por litro. En caso contrario, será del 5% por litro. El precio por litro de diésel es de R$ 2,00 y el precio por litro de etanol es de R$ 1,70. Escribe un programa que lea la cantidad de litros vendidos y el tipo de combustible (E para etanol y D para diésel) y calcule el valor a pagar por el cliente. Ten en cuenta algunas sugerencias:\n",
        "\n",
        "El valor del descuento será el producto del precio por litro, la cantidad de litros y el valor del descuento.\n",
        "El valor a pagar por un cliente será el resultado de la multiplicación del precio por litro por la cantidad de litros menos el valor del descuento resultante del cálculo.\n"
      ],
      "metadata": {
        "id": "Z7TXx0SyNiu-"
      }
    },
    {
      "cell_type": "code",
      "source": [
        "#entrada\n",
        "entrada = int(input('que tipo de combustible utilizara: 1 etanol o 2 diesel'))\n",
        "\n",
        "if entrada == 1:\n",
        "  litrosEtanol = float(input('cuantos litros recargo:'))\n",
        "  if litrosEtanol > 15:\n",
        "    print('este es el total - el descuento de litros de E',((litrosEtanol*1.70)-(litrosEtanol*1.70*0.04)))\n",
        "  else:\n",
        "    print('este es el total - el descuento de litros de E',((litrosEtanol*1.70)-(litrosEtanol*1.70*0.02)))\n",
        "else:\n",
        "  litrosDiesel = float(input('cuantos litros recargo:'))\n",
        "  if litrosDiesel > 15:\n",
        "    print('este es el total - el descuento de litros de D',((litrosDiesel*2)-(litrosDiesel*2*0.05)))\n",
        "  else:\n",
        "    print('este es el total - el descuento de litros de d',((litrosDiesel*2)-(litrosDiesel*2*0.03)))\n"
      ],
      "metadata": {
        "id": "0du5YF0qNnSB",
        "colab": {
          "base_uri": "https://localhost:8080/"
        },
        "outputId": "0d2891a0-adb8-4111-935c-fb676bd13a1f"
      },
      "execution_count": null,
      "outputs": [
        {
          "output_type": "stream",
          "name": "stdout",
          "text": [
            "que tipo de combustible utilizara: 1 etanol o 2 diesel1\n",
            "cuantos litros recargo:7\n",
            "este es el total - el descuento de litros de E 11.662\n"
          ]
        }
      ]
    },
    {
      "cell_type": "markdown",
      "source": [
        "13. En una empresa de venta de bienes raíces, debes crear un código que analice los datos de ventas anuales para ayudar a la dirección en la toma de decisiones. El código debe recopilar los datos de cantidad de ventas durante los años 2022 y 2023 y calcular la variación porcentual. A partir del valor de la variación, se deben proporcionar las siguientes sugerencias:\n",
        "\n",
        "\n",
        "\n",
        "*   Para una variación superior al 20%: bonificación para el equipo de ventas.\n",
        "*   Para una variación entre el 2% y el 20%: pequeña bonificación para el equipo de ventas.\n",
        "*   Para una variación entre el 2% y el -10%: planificación de políticas de incentivo a las ventas.\n",
        "*   Para bonificaciones inferiores al -10%: recorte de gastos."
      ],
      "metadata": {
        "id": "EY8u6F-BQAUn"
      }
    },
    {
      "cell_type": "code",
      "source": [
        "#Entradas\n",
        "a = 2190000\n",
        "b = 2687000\n",
        "\n",
        "variacion_porcentual = ((b-a)/a)*100\n",
        "\n",
        "if variacion_porcentual <= -10:\n",
        "  print('recorte de gastos')\n",
        "elif variacion_porcentual < 2:\n",
        "  print('planificación de politicas de incentivo a las ventas')\n",
        "elif variacion_porcentual <= 20:\n",
        "  print('pequeña bonificacion para el equipo de ventas')\n",
        "else:\n",
        "  print('bonificación para el equipo de ventas')"
      ],
      "metadata": {
        "colab": {
          "base_uri": "https://localhost:8080/"
        },
        "id": "kof4DhiwQd8A",
        "outputId": "57853850-f16f-43c3-d3e1-6a5f7d85aca7"
      },
      "execution_count": null,
      "outputs": [
        {
          "output_type": "stream",
          "name": "stdout",
          "text": [
            "bonificación para el equipo de ventas\n"
          ]
        }
      ]
    },
    {
      "cell_type": "markdown",
      "source": [
        "##Estructuras de repetición\n",
        "\n",
        "while (mientras se cumpla una condición)\n",
        "for (para repetir un bloque de código un número determinado de veces)\n"
      ],
      "metadata": {
        "id": "PTLfKnIbbGzT"
      }
    },
    {
      "cell_type": "code",
      "source": [
        "n = 5\n",
        "\n",
        "while n <= 10:\n",
        "  print(n)\n",
        "  n += 1"
      ],
      "metadata": {
        "colab": {
          "base_uri": "https://localhost:8080/"
        },
        "id": "BQX7czWEcC-B",
        "outputId": "f42a7d15-8935-45c3-9c82-7b59b65737d7"
      },
      "execution_count": null,
      "outputs": [
        {
          "output_type": "stream",
          "name": "stdout",
          "text": [
            "5\n",
            "6\n",
            "7\n",
            "8\n",
            "9\n",
            "10\n"
          ]
        }
      ]
    },
    {
      "cell_type": "code",
      "source": [
        "contador = 1\n",
        "\n",
        "while contador <= 3:\n",
        "  nota_1 = float(input('Digita la primer nota: '))\n",
        "  nota_2 = float(input('Digita la segunda nota: '))\n",
        "  print(f'el promedio del estudiante {contador} es : {(nota_1+nota_2)/2}')\n",
        "  contador += 1"
      ],
      "metadata": {
        "colab": {
          "base_uri": "https://localhost:8080/"
        },
        "id": "_GcSAfBUeEUC",
        "outputId": "98ae0b8e-cb08-405f-a1df-445c25d4bb11"
      },
      "execution_count": null,
      "outputs": [
        {
          "output_type": "stream",
          "name": "stdout",
          "text": [
            "Digita la primer nota: 9\n",
            "Digita la segunda nota: 8.5\n",
            "el promedio del estudiante 1 es : 8.75\n",
            "Digita la primer nota: 7\n",
            "Digita la segunda nota: 6\n",
            "el promedio del estudiante 2 es : 6.5\n",
            "Digita la primer nota: 10\n",
            "Digita la segunda nota: 9.7\n",
            "el promedio del estudiante 3 es : 9.85\n"
          ]
        }
      ]
    },
    {
      "cell_type": "code",
      "source": [
        "for n in range(1,11):\n",
        "  print(n)"
      ],
      "metadata": {
        "colab": {
          "base_uri": "https://localhost:8080/"
        },
        "id": "aCllRiidf6uy",
        "outputId": "7467c19e-e974-489d-f36d-c883c2587bf0"
      },
      "execution_count": null,
      "outputs": [
        {
          "output_type": "stream",
          "name": "stdout",
          "text": [
            "1\n",
            "2\n",
            "3\n",
            "4\n",
            "5\n",
            "6\n",
            "7\n",
            "8\n",
            "9\n",
            "10\n"
          ]
        }
      ]
    },
    {
      "cell_type": "code",
      "source": [
        "for e in range(1,4):\n",
        "  nota_1 = float(input('Digita la primer nota: '))\n",
        "  nota_2 = float(input('Digita la segunda nota: '))\n",
        "  print(f'el promedio del estudiante {e} es : {(nota_1+nota_2)/2}')\n",
        "  print(e)"
      ],
      "metadata": {
        "colab": {
          "base_uri": "https://localhost:8080/"
        },
        "id": "o9o_eJMxgLJR",
        "outputId": "c34c2d79-1902-4a6b-ee49-c7714206e8fe"
      },
      "execution_count": null,
      "outputs": [
        {
          "output_type": "stream",
          "name": "stdout",
          "text": [
            "Digita la primer nota: 5\n",
            "Digita la segunda nota: 6\n",
            "el promedio del estudiante 1 es : 5.5\n",
            "1\n",
            "Digita la primer nota: 6\n",
            "Digita la segunda nota: 8\n",
            "el promedio del estudiante 2 es : 7.0\n",
            "2\n",
            "Digita la primer nota: 8\n",
            "Digita la segunda nota: 9\n",
            "el promedio del estudiante 3 es : 8.5\n",
            "3\n"
          ]
        }
      ]
    },
    {
      "cell_type": "markdown",
      "source": [
        "1. Escribe un programa que solicite dos números enteros e imprima todos los números enteros entre ellos."
      ],
      "metadata": {
        "id": "TUDXpEKxiTdV"
      }
    },
    {
      "cell_type": "code",
      "source": [
        "numero_enteroinicial = int(input('ingrese el primer numero: '))\n",
        "numero_enterofinal = int(input('ingrese el segundo numero: '))\n",
        "\n",
        "for i in range(numero_enteroinicial,numero_enterofinal+1):\n",
        "  print(i)"
      ],
      "metadata": {
        "colab": {
          "base_uri": "https://localhost:8080/"
        },
        "id": "7T1h89dqg0c0",
        "outputId": "96962011-8fbf-4745-a604-a63716dd170c"
      },
      "execution_count": null,
      "outputs": [
        {
          "output_type": "stream",
          "name": "stdout",
          "text": [
            "ingrese el primer numero: 1\n",
            "ingrese el segundo numero: 7\n",
            "1\n",
            "2\n",
            "3\n",
            "4\n",
            "5\n",
            "6\n",
            "7\n"
          ]
        }
      ]
    },
    {
      "cell_type": "markdown",
      "source": [
        "2.  Escribe un programa para calcular cuántos días tomará que la colonia de una bacteria A supere o iguale a la colonia de una bacteria B, basado en tasas de crecimiento del 3% y 1.5%, respectivamente. Supón que la colonia A comienza con 4 elementos y B con 10."
      ],
      "metadata": {
        "id": "SBOYfiX0i5SO"
      }
    },
    {
      "cell_type": "code",
      "source": [
        "a = 4\n",
        "b = 10\n",
        "n = 0\n",
        "\n",
        "while a <=b :\n",
        "  a = a + (a*0.03)\n",
        "  b = b + (b*0.015)\n",
        "  n += 1\n",
        "\n",
        "print(f'A supera a B en {n} ciclos')"
      ],
      "metadata": {
        "colab": {
          "base_uri": "https://localhost:8080/"
        },
        "id": "wWUZryBfi80a",
        "outputId": "5f609e13-633c-4503-bc99-1fab69890373"
      },
      "execution_count": null,
      "outputs": [
        {
          "output_type": "stream",
          "name": "stdout",
          "text": [
            "A supera a B en 63 ciclos\n"
          ]
        }
      ]
    },
    {
      "cell_type": "markdown",
      "source": [
        "3. Para procesar una cantidad de 15 datos de evaluaciones de usuarios de un servicio de la empresa, necesitamos verificar si las calificaciones son válidas. Por lo tanto, escribe un programa que recibirá calificaciones del 0 al 5 y verificará si son valores válidos. Si se ingresa una calificación superior a 5 o inferior a 0, se repetirá hasta que el usuario ingrese un valor válido."
      ],
      "metadata": {
        "id": "SgtrrKxcnNgJ"
      }
    },
    {
      "cell_type": "code",
      "source": [
        "n = 1\n",
        "while n <= 15:\n",
        "  nota = float(input(f'ingrese la {n} nota: '))\n",
        "  if nota > 5 or nota < 0:\n",
        "    break\n",
        "  else:\n",
        "    n += 1\n"
      ],
      "metadata": {
        "colab": {
          "base_uri": "https://localhost:8080/"
        },
        "id": "09t7xbEInSYp",
        "outputId": "e76a6f4b-9924-46be-e3b7-dfdb1c4f7cc1"
      },
      "execution_count": null,
      "outputs": [
        {
          "name": "stdout",
          "output_type": "stream",
          "text": [
            "ingrese la 0 nota: 1\n",
            "ingrese la 1 nota: 2\n",
            "ingrese la 2 nota: 3\n",
            "ingrese la 3 nota: 2\n",
            "ingrese la 4 nota: 4\n",
            "ingrese la 5 nota: 5\n",
            "ingrese la 6 nota: 4\n",
            "ingrese la 7 nota: 5\n",
            "ingrese la 8 nota: 3\n",
            "ingrese la 9 nota: 4\n",
            "ingrese la 10 nota: 3\n",
            "ingrese la 11 nota: 4\n",
            "ingrese la 12 nota: 2\n",
            "ingrese la 13 nota: 3\n",
            "ingrese la 14 nota: 4\n"
          ]
        }
      ]
    },
    {
      "cell_type": "markdown",
      "source": [
        "4.  Desarrolla un programa que lea un conjunto indefinido de temperaturas en grados Celsius y calcule su promedio. La lectura debe detenerse al ingresar el valor -273°C."
      ],
      "metadata": {
        "id": "-O_5iAz8uhly"
      }
    },
    {
      "cell_type": "code",
      "source": [
        "print(\"Ingrese temperaturas en grados Celsius. Ingrese -273 para finalizar.\")\n",
        "\n",
        "suma = 0\n",
        "contador = 0\n",
        "\n",
        "while True:\n",
        "    temperatura = float(input(\"Temperatura (°C): \"))\n",
        "\n",
        "    if temperatura == -273:\n",
        "        break\n",
        "\n",
        "    suma += temperatura\n",
        "    contador += 1\n",
        "\n",
        "if contador > 0:\n",
        "    promedio = suma / contador\n",
        "    print(f\"\\nEl promedio de las temperaturas ingresadas es: {promedio:.2f} °C\")\n",
        "else:\n",
        "    print(\"\\nNo se ingresaron temperaturas válidas.\")"
      ],
      "metadata": {
        "colab": {
          "base_uri": "https://localhost:8080/"
        },
        "id": "9IDxUbhHuod5",
        "outputId": "9dfa55c5-3595-4c3f-f2b4-bfa89a113ed8"
      },
      "execution_count": null,
      "outputs": [
        {
          "output_type": "stream",
          "name": "stdout",
          "text": [
            "Ingrese temperaturas en grados Celsius. Ingrese -273 para finalizar.\n",
            "Temperatura (°C): 100\n",
            "Temperatura (°C): 200\n",
            "Temperatura (°C): 300\n",
            "Temperatura (°C): -273\n",
            "\n",
            "El promedio de las temperaturas ingresadas es: 200.00 °C\n"
          ]
        }
      ]
    },
    {
      "cell_type": "markdown",
      "source": [
        "5. Escribe un programa que calcule el factorial de un número entero proporcionado por el usuario. Recuerda que el factorial de un número entero es el producto de ese número por todos sus antecesores hasta llegar al número 1. Por ejemplo, el factorial de 5 es 5 x 4 x 3 x 2 x 1 = 120"
      ],
      "metadata": {
        "id": "bG3YY2KPvoMV"
      }
    },
    {
      "cell_type": "code",
      "source": [
        "n = int(input('Ingrese un número: '))\n",
        "\n",
        "if n < 0:\n",
        "    print(\"El factorial no está definido para números negativos.\")\n",
        "else:\n",
        "    factorial = 1\n",
        "    contador = n\n",
        "\n",
        "    while contador > 0:\n",
        "        factorial *= contador\n",
        "        contador -= 1\n",
        "\n",
        "    print(f\"El factorial de {n} es: {factorial}\")\n"
      ],
      "metadata": {
        "colab": {
          "base_uri": "https://localhost:8080/"
        },
        "id": "bA2y43CNvrhm",
        "outputId": "c6ebf642-148c-4cad-bda5-c961d2676c0b"
      },
      "execution_count": null,
      "outputs": [
        {
          "output_type": "stream",
          "name": "stdout",
          "text": [
            "Ingrese un número: 5\n",
            "El factorial de 5 es: 120\n"
          ]
        }
      ]
    },
    {
      "cell_type": "markdown",
      "source": [
        "6. Escribe un programa que genere la tabla de multiplicar de un número entero del 1 al 10, según la elección del usuario. Como ejemplo, para el número 2, la tabla de multiplicar debe mostrarse en el siguiente formato:"
      ],
      "metadata": {
        "id": "SD_2v3lNyM_C"
      }
    },
    {
      "cell_type": "code",
      "source": [
        "n = int(input('ingrese un numero: '))\n",
        "contador = 1\n",
        "\n",
        "while contador <= 10:\n",
        "  t = n * contador\n",
        "  contador += 1\n",
        "  print(t)"
      ],
      "metadata": {
        "colab": {
          "base_uri": "https://localhost:8080/"
        },
        "id": "ldEHw3Ufz3MS",
        "outputId": "496a6436-769b-4c4f-949a-5c1235d4a7da"
      },
      "execution_count": null,
      "outputs": [
        {
          "output_type": "stream",
          "name": "stdout",
          "text": [
            "ingrese un numero1\n",
            "1\n",
            "2\n",
            "3\n",
            "4\n",
            "5\n",
            "6\n",
            "7\n",
            "8\n",
            "9\n",
            "10\n"
          ]
        }
      ]
    },
    {
      "cell_type": "markdown",
      "source": [
        "7. Los números primos tienen diversas aplicaciones en Ciencia de Datos, como en criptografía y seguridad. Un número primo es aquel que es divisible solo por sí mismo y por 1. Por lo tanto, crea un programa que solicite un número entero y determine si es un número primo o no."
      ],
      "metadata": {
        "id": "p3dyWJhG0vZO"
      }
    },
    {
      "cell_type": "code",
      "source": [
        "numero_validar = int(input('ingrese un numero: '))\n",
        "n = 1\n",
        "contador = 0\n",
        "\n",
        "while n <= numero_validar:\n",
        "  if numero_validar % n == 0:\n",
        "    contador += 1\n",
        "  n += 1\n",
        "if contador == 2:\n",
        "  print(f'el numero {numero_validar}, es un numero primo')\n",
        "else:\n",
        "  print(f'el numero {numero_validar}, no es un numero primo')\n",
        "\n"
      ],
      "metadata": {
        "colab": {
          "base_uri": "https://localhost:8080/"
        },
        "id": "uzOCxoJ80y-H",
        "outputId": "e6f57067-ed47-44fa-94e4-5db5f73eaa4f"
      },
      "execution_count": null,
      "outputs": [
        {
          "output_type": "stream",
          "name": "stdout",
          "text": [
            "ingrese un numero: 3\n",
            "el numero 3, es un numero primo\n"
          ]
        }
      ]
    },
    {
      "cell_type": "markdown",
      "source": [
        "8. Vamos a comprender la distribución de edades de los pensionistas de una empresa de seguros. Escribe un programa que lea las edades de una cantidad no informada de clientes y muestre la distribución en los intervalos [0-25], [26-50], [51-75] y [76-100]. La entrada de datos se detendrá al ingresar un número negativo."
      ],
      "metadata": {
        "id": "4cJZY9h95lOm"
      }
    },
    {
      "cell_type": "code",
      "source": [
        "\n",
        "edad = int(input('Ingresa la edad (o un número negativo para finalizar): '))\n",
        "\n",
        "# Inicializamos las variables de conteo\n",
        "contador_0_25 = 0 # contador de edades entre 0 y 25\n",
        "contador_26_50 = 0 # contador de edades entre 26 y 50\n",
        "contador_51_75 = 0 # contador de edades entre 51 y 75\n",
        "contador_76_100 = 0 # contador de edades entre 76 y 100\n",
        "\n",
        "# Nuestro código se ejecuta hasta que el valor de edad sea negativo\n",
        "while edad >= 0:\n",
        "    # Contamos cada caso\n",
        "    if edad >= 0 and edad <= 25:\n",
        "        contador_0_25 += 1\n",
        "    elif edad >= 26 and edad <= 50:\n",
        "        contador_26_50 += 1\n",
        "    elif edad >= 51 and edad <= 75:\n",
        "        contador_51_75 += 1\n",
        "    elif edad >= 76 and edad <= 100:\n",
        "        contador_76_100 += 1\n",
        "\n",
        "    # Repetimos el proceso de entrada de datos hasta que se ingrese un número negativo\n",
        "    edad = int(input('Ingresa la edad (o un número negativo para finalizar): '))\n",
        "\n",
        "# Mostramos los resultados\n",
        "print('Distribución de edades:')\n",
        "print('[0-25]:', contador_0_25)\n",
        "print('[26-50]:', contador_26_50)\n",
        "print('[51-75]:', contador_51_75)\n",
        "print('[76-100]:', contador_76_100)\n"
      ],
      "metadata": {
        "colab": {
          "base_uri": "https://localhost:8080/"
        },
        "id": "yPGOH4Rh5pKK",
        "outputId": "f4d78777-3c3b-4fd5-eee2-179a545080dc"
      },
      "execution_count": null,
      "outputs": [
        {
          "output_type": "stream",
          "name": "stdout",
          "text": [
            "Ingresa la edad (o un número negativo para finalizar): 10\n",
            "Ingresa la edad (o un número negativo para finalizar): 20\n",
            "Ingresa la edad (o un número negativo para finalizar): 50\n",
            "Ingresa la edad (o un número negativo para finalizar): -1\n",
            "Distribución de edades:\n",
            "[0-25]: 2\n",
            "[26-50]: 1\n",
            "[51-75]: 0\n",
            "[76-100]: 0\n"
          ]
        }
      ]
    },
    {
      "cell_type": "markdown",
      "source": [
        " 9. En una elección para la gerencia de una empresa con 20 empleados, hay cuatro candidatos. Escribe un programa que calcule al ganador de la elección. La votación se realizó de la siguiente manera:\n",
        "\n",
        "Cada empleado votó por uno de los cuatro candidatos (representados por los números 1, 2, 3 y 4).\n",
        "\n",
        "También se contaron los votos nulos (representados por el número 5) y los votos en blanco (representados por el número 6)."
      ],
      "metadata": {
        "id": "cqQmUOZD524E"
      }
    },
    {
      "cell_type": "code",
      "source": [
        "# Inicializamos las variables contadoras\n",
        "votos_candidato1 = 0\n",
        "votos_candidato2 = 0\n",
        "votos_candidato3 = 0\n",
        "votos_candidato4 = 0\n",
        "votos_nulos = 0\n",
        "votos_blanco = 0\n",
        "\n",
        "# Inicio del bucle para leer los votos\n",
        "for i in range(0, 20):\n",
        "    voto = int(input('Ingresa tu voto: '))\n",
        "    if voto == 1:\n",
        "        votos_candidato1 += 1\n",
        "    elif voto == 2:\n",
        "        votos_candidato2 += 1\n",
        "    elif voto == 3:\n",
        "        votos_candidato3 += 1\n",
        "    elif voto == 4:\n",
        "        votos_candidato4 += 1\n",
        "    elif voto == 5:\n",
        "        votos_nulos += 1\n",
        "    elif voto == 6:\n",
        "        votos_blanco += 1\n",
        "    else:\n",
        "        print(\"Voto inválido.\")\n",
        "\n",
        "print(f'Votos candidato 1: {votos_candidato1}')\n",
        "print(f'Votos candidato 2: {votos_candidato2}')\n",
        "print(f'Votos candidato 3: {votos_candidato3}')\n",
        "print(f'Votos candidato 4: {votos_candidato4}')\n",
        "print(f'Votos nulos: {votos_nulos}')\n",
        "print(f'Votos en blanco: {votos_blanco}')\n",
        "print(f'Porcentaje de votos nulos: {(votos_nulos / 20 * 100)}')\n",
        "print(f'Porcentaje de votos en blanco: {(votos_blanco / 20 * 100)}')\n"
      ],
      "metadata": {
        "colab": {
          "base_uri": "https://localhost:8080/",
          "height": 258
        },
        "id": "yAFXrqSP5_3T",
        "outputId": "ebfb9db0-cc8d-4b00-9329-f7d82ef70f50"
      },
      "execution_count": 70,
      "outputs": [
        {
          "name": "stdout",
          "output_type": "stream",
          "text": [
            "Voto inválido.\n",
            "Voto inválido.\n",
            "Ingresa tu voto: \n"
          ]
        },
        {
          "output_type": "error",
          "ename": "ValueError",
          "evalue": "invalid literal for int() with base 10: ''",
          "traceback": [
            "\u001b[0;31m---------------------------------------------------------------------------\u001b[0m",
            "\u001b[0;31mValueError\u001b[0m                                Traceback (most recent call last)",
            "\u001b[0;32m<ipython-input-70-733c3e7d67cb>\u001b[0m in \u001b[0;36m<cell line: 0>\u001b[0;34m()\u001b[0m\n\u001b[1;32m      9\u001b[0m \u001b[0;31m# Inicio del bucle para leer los votos\u001b[0m\u001b[0;34m\u001b[0m\u001b[0;34m\u001b[0m\u001b[0m\n\u001b[1;32m     10\u001b[0m \u001b[0;32mfor\u001b[0m \u001b[0mi\u001b[0m \u001b[0;32min\u001b[0m \u001b[0mrange\u001b[0m\u001b[0;34m(\u001b[0m\u001b[0;36m0\u001b[0m\u001b[0;34m,\u001b[0m \u001b[0;36m20\u001b[0m\u001b[0;34m)\u001b[0m\u001b[0;34m:\u001b[0m\u001b[0;34m\u001b[0m\u001b[0;34m\u001b[0m\u001b[0m\n\u001b[0;32m---> 11\u001b[0;31m     \u001b[0mvoto\u001b[0m \u001b[0;34m=\u001b[0m \u001b[0mint\u001b[0m\u001b[0;34m(\u001b[0m\u001b[0minput\u001b[0m\u001b[0;34m(\u001b[0m\u001b[0;34m'Ingresa tu voto: '\u001b[0m\u001b[0;34m)\u001b[0m\u001b[0;34m)\u001b[0m\u001b[0;34m\u001b[0m\u001b[0;34m\u001b[0m\u001b[0m\n\u001b[0m\u001b[1;32m     12\u001b[0m     \u001b[0;32mif\u001b[0m \u001b[0mvoto\u001b[0m \u001b[0;34m==\u001b[0m \u001b[0;36m1\u001b[0m\u001b[0;34m:\u001b[0m\u001b[0;34m\u001b[0m\u001b[0;34m\u001b[0m\u001b[0m\n\u001b[1;32m     13\u001b[0m         \u001b[0mvotos_candidato1\u001b[0m \u001b[0;34m+=\u001b[0m \u001b[0;36m1\u001b[0m\u001b[0;34m\u001b[0m\u001b[0;34m\u001b[0m\u001b[0m\n",
            "\u001b[0;31mValueError\u001b[0m: invalid literal for int() with base 10: ''"
          ]
        }
      ]
    },
    {
      "cell_type": "markdown",
      "source": [
        "##Listas"
      ],
      "metadata": {
        "id": "239lm5ZM6oDv"
      }
    },
    {
      "cell_type": "code",
      "source": [
        "lista = ['penelope',2,3.4,5.6,True]\n",
        "type(lista[0])"
      ],
      "metadata": {
        "id": "sR_3WEqp7dRM"
      },
      "execution_count": null,
      "outputs": []
    },
    {
      "cell_type": "code",
      "source": [
        "lista[2] = 5.6"
      ],
      "metadata": {
        "id": "7dNCRnen8DZ1"
      },
      "execution_count": null,
      "outputs": []
    },
    {
      "cell_type": "markdown",
      "source": [
        "### metodos listas\n",
        "\n",
        "len() = cantidad de elementos en la lista\n",
        "lista[0:2] = consultar los elementos de la lista, podemos en este caso consultar do\n",
        "\n",
        "lista[:3]= consultar desde el elemento 0 hasta el 2\n",
        "\n",
        "lista[3:] = consulta los elementos desde el 3 elemento hasta el final\n",
        "\n",
        "append(). = agrega elementos ( ojo si append una lista va a quedar una lista en el interior de la lista\n",
        "\n",
        "remove(). remueve un elemento\n",
        "\n",
        "extend() = puedo entender la lista, puedo agregar mas elementos con una lista\n",
        "\n",
        "sort() organiza la lista\n",
        "index() = devuelve la posicion de un elemento\n",
        "\n",
        "El método pop() elimina el elemento en una posición específica de la lista y lo devuelve como salida al ejecutar el método. Solo necesitamos especificar, entre paréntesis, el índice del elemento que deseamos eliminar, y se eliminará de la lista. Por lo tanto, eliminemos la raza \"Golden Retriever\" que agregamos en el método anterior.\n",
        "\n",
        "\n",
        "El primer método es insert(), que permite insertar un elemento en una posición específica de la lista. La sintaxis es lista.insert(indice, elemento), donde \"lista\" es la lista que recibirá el nuevo elemento, \"indice\" es la posición donde se insertará el nuevo elemento y \"elemento\" es el nuevo elemento que se insertará.\n",
        "\n",
        "El método index() devuelve el índice de un elemento específico en la lista. Para hacerlo, especificamos el elemento entre paréntesis.\n",
        "\n",
        "El método sort() ordena los elementos de la lista en orden ascendente o descendente. Si son palabras, el orden se basa en el orden alfabético o en el orden inverso. Para ordenar los valores, simplemente llamamos al método sort(), y la lista se organizará en orden. Para ordenar alfabéticamente la lista de razas de perros, podemos usar el siguiente código:\n",
        "\n",
        "\n"
      ],
      "metadata": {
        "id": "yy2SHLY--7td"
      }
    },
    {
      "cell_type": "markdown",
      "source": [
        "### Diccionario\n",
        "\n",
        "una extructura de datos que almacena pares llave-valor. Estos son delimitados por llaves{} y los pares llave valor son separados por comas\n",
        "\n",
        "diccionario = {llave: valor}\n",
        "\n"
      ],
      "metadata": {
        "id": "heUQHaT2DyIG"
      }
    },
    {
      "cell_type": "code",
      "source": [
        "diccionario = {'llave_1': 1,\n",
        "               'llave_2': 2}\n",
        "diccionario"
      ],
      "metadata": {
        "id": "VasGZ4xXELfx"
      },
      "execution_count": null,
      "outputs": []
    },
    {
      "cell_type": "code",
      "source": [
        "estudiante = {\n",
        "              'matricula' : 2000168933,\n",
        "              'dia de registro': 25,\n",
        "              'mes de registo': 10,\n",
        "              'grupo': '2E'\n",
        "              }"
      ],
      "metadata": {
        "id": "UK6YD8E1ElXf"
      },
      "execution_count": null,
      "outputs": []
    },
    {
      "cell_type": "code",
      "source": [
        "estudiante['grupo']\n"
      ],
      "metadata": {
        "id": "6qXnYuXhFEnR"
      },
      "execution_count": null,
      "outputs": []
    },
    {
      "cell_type": "code",
      "source": [
        "estudiante['grupo'] = '2G'"
      ],
      "metadata": {
        "id": "Nh2jh6VEFIjG"
      },
      "execution_count": null,
      "outputs": []
    },
    {
      "cell_type": "code",
      "source": [
        "estudiante['modalidad'] = 'EAD'"
      ],
      "metadata": {
        "id": "bDuG4G3XFNgy"
      },
      "execution_count": null,
      "outputs": []
    },
    {
      "cell_type": "markdown",
      "source": [
        "profundizando en diccionarios"
      ],
      "metadata": {
        "id": "qHTD78WQFwtr"
      }
    },
    {
      "cell_type": "code",
      "source": [
        "estudiante.pop('grupo') #elimina la llave grupo\n",
        "estudiante.items()#devuelve en lista el dicionario\n",
        "estudiante.key()#retorna una lista de las llaves del diccionario\n",
        "estudiante.values()#reotrna los valores en una lista"
      ],
      "metadata": {
        "id": "U9H4YnAKFzh4"
      },
      "execution_count": null,
      "outputs": []
    },
    {
      "cell_type": "code",
      "source": [
        "for llave in estudiante.keys():\n",
        "  print(llave)"
      ],
      "metadata": {
        "id": "n7FSa-B6Gdqz"
      },
      "execution_count": null,
      "outputs": []
    },
    {
      "cell_type": "code",
      "source": [
        "for llave,valor in estudiante.items():\n",
        "  print(llave,'--->', valor)"
      ],
      "metadata": {
        "id": "ZL2BFXeHGnPV"
      },
      "execution_count": null,
      "outputs": []
    },
    {
      "cell_type": "code",
      "source": [
        "tienda = {'nombres': ['televisión', 'celular', 'notebook', 'geladeira', 'estufa'],\n",
        "          'precios': [2000, 1500, 3500, 4000, 1500]}\n"
      ],
      "metadata": {
        "id": "5CnIsOtlHHId"
      },
      "execution_count": null,
      "outputs": []
    },
    {
      "cell_type": "code",
      "source": [
        "for clave, elementos in tienda.items():\n",
        "  print(f'Clave: {clave}\\nElementos:')\n",
        "  for dato in elementos:\n",
        "    print(dato)"
      ],
      "metadata": {
        "id": "qAXSw_FQHIH9"
      },
      "execution_count": null,
      "outputs": []
    },
    {
      "cell_type": "markdown",
      "source": [
        "dir()\n",
        "\n",
        "Por último, la función dir() se utiliza para mostrar una lista de atributos y métodos asociados a un elemento. Por ejemplo, vamos a descubrir todos los atributos y métodos de una lista:\n",
        "\n",
        "help()\n",
        "\n",
        "La función help() se utiliza para acceder a la documentación de funciones, métodos y otros elementos de Python. Muestra información en inglés sobre la funcionalidad, sintaxis y uso de un objeto específico. Para usar esta función, simplemente pasa el elemento deseado entre paréntesis. Por ejemplo, vamos a verificar la documentación de la función print():\n",
        "\n"
      ],
      "metadata": {
        "id": "Hi574W8LHUKB"
      }
    },
    {
      "cell_type": "markdown",
      "source": [
        "1. Crea un programa que tenga la siguiente lista con los gastos de una empresa de papel [2172.54, 3701.35, 3518.09, 3456.61, 3249.38, 2840.82, 3891.45, 3075.26, 2317.64, 3219.08]. Con estos valores, crea un programa que calcule el promedio de gastos. Sugerencia: usa las funciones integradas sum() y len()."
      ],
      "metadata": {
        "id": "EH8EmJFlHlxI"
      }
    },
    {
      "cell_type": "code",
      "source": [
        "gastos = [2172.54, 3701.35, 3518.09, 3456.61, 3249.38, 2840.82, 3891.45, 3075.26, 2317.64, 3219.08]\n",
        "\n",
        "promedio = sum(gastos)/len(gastos)\n",
        "\n",
        "print(promedio)"
      ],
      "metadata": {
        "id": "B4ByHqN6Ho9B",
        "colab": {
          "base_uri": "https://localhost:8080/"
        },
        "outputId": "221ed59e-51a7-439c-eab4-7e999b0566d8"
      },
      "execution_count": 71,
      "outputs": [
        {
          "output_type": "stream",
          "name": "stdout",
          "text": [
            "3144.222\n"
          ]
        }
      ]
    },
    {
      "cell_type": "markdown",
      "source": [
        "2. Con los mismos datos de la pregunta anterior, determina cuántas compras se realizaron por encima de 3000 reales y calcula el porcentaje con respecto al total de compras."
      ],
      "metadata": {
        "id": "cZU_-CoTICdT"
      }
    },
    {
      "cell_type": "code",
      "source": [
        "contador = 0\n",
        "for datos in gastos:\n",
        "  if datos > 3000:\n",
        "    contador += 1\n",
        "\n",
        "procetnajeencima3000 = (100*contador)/len(gastos)\n",
        "print(procetnajeencima3000)\n",
        "print(contador)"
      ],
      "metadata": {
        "id": "zAet5Jd7IExj",
        "colab": {
          "base_uri": "https://localhost:8080/"
        },
        "outputId": "fdd8e6a4-79f9-477e-cd71-2cecbe19371d"
      },
      "execution_count": 75,
      "outputs": [
        {
          "output_type": "stream",
          "name": "stdout",
          "text": [
            "70.0\n",
            "7\n"
          ]
        }
      ]
    },
    {
      "cell_type": "markdown",
      "source": [
        "3. Crea un código que recoja en una lista 5 números enteros aleatorios e imprima la lista. Ejemplo: [1, 4, 7, 2, 4]."
      ],
      "metadata": {
        "id": "ia24G8e8JK50"
      }
    },
    {
      "cell_type": "code",
      "source": [
        "lista_numeros = []\n",
        "\n",
        "for i in range (0,5):\n",
        "  numero = int(input('Ingrese un numero entero: '))\n",
        "  lista_numeros.append(numero)\n",
        "print(f'lista de numeros ingresados: {lista_numeros}')"
      ],
      "metadata": {
        "id": "6vfPVwPQIOCW",
        "colab": {
          "base_uri": "https://localhost:8080/"
        },
        "outputId": "9f45bbfe-1b7a-4d34-dc36-2fc0dde84621"
      },
      "execution_count": 76,
      "outputs": [
        {
          "output_type": "stream",
          "name": "stdout",
          "text": [
            "Ingrese un numero entero: 4\n",
            "Ingrese un numero entero: 07\n",
            "Ingrese un numero entero: 98\n",
            "Ingrese un numero entero: 2\n",
            "Ingrese un numero entero: 56\n",
            "lista de numeros ingresados: [4, 7, 98, 2, 56]\n"
          ]
        }
      ]
    },
    {
      "cell_type": "markdown",
      "source": [
        "4.  Recoge nuevamente 5 números enteros e imprime la lista en orden inverso al enviado."
      ],
      "metadata": {
        "id": "jNdt8yzPJywF"
      }
    },
    {
      "cell_type": "code",
      "source": [
        "lista_numeros = []\n",
        "\n",
        "for i in range (0,5):\n",
        "  numero = int(input('Ingrese un numero entero: '))\n",
        "  lista_numeros.append(numero)\n",
        "print(f'lista de numeros ingresados invertida: {lista_numeros[::-1]}')"
      ],
      "metadata": {
        "colab": {
          "base_uri": "https://localhost:8080/"
        },
        "id": "Cf3oXXWyJ39v",
        "outputId": "946d8678-3202-4cdb-b35b-3a05faffeec3"
      },
      "execution_count": 78,
      "outputs": [
        {
          "output_type": "stream",
          "name": "stdout",
          "text": [
            "Ingrese un numero entero: 5\n",
            "Ingrese un numero entero: 4\n",
            "Ingrese un numero entero: 3\n",
            "Ingrese un numero entero: 2\n",
            "Ingrese un numero entero: 1\n",
            "lista de numeros ingresados invertida: [1, 2, 3, 4, 5]\n"
          ]
        }
      ]
    },
    {
      "cell_type": "markdown",
      "source": [
        "5. Crea un programa que, al ingresar un número cualquiera, genere una lista que contenga todos los números primos entre 1 y el número ingresado."
      ],
      "metadata": {
        "id": "gPw7XQhDKbeX"
      }
    },
    {
      "cell_type": "code",
      "source": [
        "numero_ingresado = int(input('ingrese un numero entero: '))\n",
        "\n",
        "lista_primos = []\n",
        "\n",
        "for num in range(2,numero_ingresado):\n",
        "  primo = True\n",
        "  for prueba_divisible in range (2, num):\n",
        "    if num%prueba_divisible == 0:\n",
        "      primo = False\n",
        "      break\n",
        "  if primo:\n",
        "    lista_primos.append(num)\n",
        "\n",
        "print(f'lista de numeros primos: {lista_primos}')"
      ],
      "metadata": {
        "colab": {
          "base_uri": "https://localhost:8080/"
        },
        "id": "HwciKl2wKfHa",
        "outputId": "e75807c3-47d4-4e8f-8974-58e4bd96824a"
      },
      "execution_count": 79,
      "outputs": [
        {
          "output_type": "stream",
          "name": "stdout",
          "text": [
            "ingrese un numero entero: 16\n",
            "lista de numeros primos: [2, 3, 5, 7, 11, 13]\n"
          ]
        }
      ]
    },
    {
      "cell_type": "markdown",
      "source": [
        "6. Escribe un programa que pida una fecha, especificando el día, mes y año, y determine si es válida para su análisis."
      ],
      "metadata": {
        "id": "Nope8or9LmKs"
      }
    },
    {
      "cell_type": "code",
      "source": [
        "# Recopilamos la fecha\n",
        "dia = int(input('Ingrese el día: '))\n",
        "mes = int(input('Ingrese el mes: '))\n",
        "año = int(input('Ingrese el año: '))\n",
        "\n",
        "# Análisis de febrero\n",
        "if mes == 2:\n",
        "  # Verificamos si es o no un año bisiesto\n",
        "  if año % 4 == 0 and (año % 400 == 0 or año % 100 != 0):\n",
        "    dias_febrero = 29\n",
        "  else:\n",
        "    dias_febrero = 28\n",
        "  # Verificamos si el día ingresado coincide con el máximo de días de febrero\n",
        "  if dia >= 1 and dia <= dias_febrero:\n",
        "    print('Fecha válida')\n",
        "  else:\n",
        "    print('Fecha inválida')\n",
        "# Verificamos meses que terminan en 31 días\n",
        "elif mes in [1, 3, 5, 7, 8, 10, 12]:\n",
        "  if dia >= 1 and dia <= 31:\n",
        "    print('Fecha válida')\n",
        "  else:\n",
        "    print('Fecha inválida')\n",
        "# Verificamos meses que terminan en 30 días\n",
        "elif mes in [4, 6, 9, 11]:\n",
        "  if dia >= 1 and dia <= 30:\n",
        "    print('Fecha válida')\n",
        "  else:\n",
        "    print('Fecha inválida')\n",
        "# Si el mes no está entre 1 y 12\n",
        "else:\n",
        "  print('Fecha inválida')\n"
      ],
      "metadata": {
        "colab": {
          "base_uri": "https://localhost:8080/"
        },
        "id": "n74tuNasLpgZ",
        "outputId": "0228beae-f6c6-44ae-9c3c-df656551d439"
      },
      "execution_count": 80,
      "outputs": [
        {
          "output_type": "stream",
          "name": "stdout",
          "text": [
            "Ingrese el día: 27\n",
            "Ingrese el mes: 03\n",
            "Ingrese el año: 1992\n",
            "Fecha válida\n"
          ]
        }
      ]
    },
    {
      "cell_type": "markdown",
      "source": [],
      "metadata": {
        "id": "cntx3nKvL3R5"
      }
    }
  ]
}