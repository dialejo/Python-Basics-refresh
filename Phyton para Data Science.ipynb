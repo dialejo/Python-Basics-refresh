{
  "nbformat": 4,
  "nbformat_minor": 0,
  "metadata": {
    "colab": {
      "provenance": [],
      "authorship_tag": "ABX9TyPfovAwdmac+KF5McpaIBfu",
      "include_colab_link": true
    },
    "kernelspec": {
      "name": "python3",
      "display_name": "Python 3"
    },
    "language_info": {
      "name": "python"
    }
  },
  "cells": [
    {
      "cell_type": "markdown",
      "metadata": {
        "id": "view-in-github",
        "colab_type": "text"
      },
      "source": [
        "<a href=\"https://colab.research.google.com/github/dialejo/Python-Basics-refresh/blob/main/Phyton%20para%20Data%20Science.ipynb\" target=\"_parent\"><img src=\"https://colab.research.google.com/assets/colab-badge.svg\" alt=\"Open In Colab\"/></a>"
      ]
    },
    {
      "cell_type": "markdown",
      "source": [
        "##Phyton para Data Science"
      ],
      "metadata": {
        "id": "-HVTjbYNUd6r"
      }
    },
    {
      "cell_type": "markdown",
      "source": [
        "#### Hola mundo"
      ],
      "metadata": {
        "id": "GEFNosIdW7Fy"
      }
    },
    {
      "cell_type": "code",
      "source": [
        "print('¡Hola mundo!')"
      ],
      "metadata": {
        "colab": {
          "base_uri": "https://localhost:8080/"
        },
        "id": "v_KmPA2oW4dR",
        "outputId": "c552f694-b83c-4de6-c6fd-f024a9af384c"
      },
      "execution_count": null,
      "outputs": [
        {
          "output_type": "stream",
          "name": "stdout",
          "text": [
            "¡Hola mundo!\n"
          ]
        }
      ]
    },
    {
      "cell_type": "code",
      "source": [
        "print('Me llamo Díego, estoy repasando un poco phyton')"
      ],
      "metadata": {
        "colab": {
          "base_uri": "https://localhost:8080/"
        },
        "id": "10HhK_agYYNf",
        "outputId": "73f7837d-6e7b-44fe-88c2-fb8fb8359466"
      },
      "execution_count": null,
      "outputs": [
        {
          "output_type": "stream",
          "name": "stdout",
          "text": [
            "Me llamo Díego, estoy repasando un poco phyton\n"
          ]
        }
      ]
    },
    {
      "cell_type": "markdown",
      "source": [
        "1. imprimiendo la frase \"Escuela de Datos de Alura\""
      ],
      "metadata": {
        "id": "60S6BZ-gZjzx"
      }
    },
    {
      "cell_type": "code",
      "source": [
        "print('\"Escuela de Datos de Alura\"')"
      ],
      "metadata": {
        "colab": {
          "base_uri": "https://localhost:8080/"
        },
        "id": "bRnCPkxsZeeY",
        "outputId": "e3b6f11a-f06a-4283-d295-8038f02169e3"
      },
      "execution_count": null,
      "outputs": [
        {
          "output_type": "stream",
          "name": "stdout",
          "text": [
            "\"Escuela de Datos de Alura\"\n"
          ]
        }
      ]
    },
    {
      "cell_type": "markdown",
      "source": [
        "2. Imprimiendo mi nombre y apellido"
      ],
      "metadata": {
        "id": "2CoQkCvNZ5H0"
      }
    },
    {
      "cell_type": "code",
      "source": [
        "n = 'Diego'\n",
        "a = 'maldonado'\n",
        "\n",
        "print('Nombre: ' + n)\n",
        "print('Apellido: ' + a)"
      ],
      "metadata": {
        "colab": {
          "base_uri": "https://localhost:8080/"
        },
        "id": "w6EWwxDKZ-bI",
        "outputId": "d74a9019-e22e-4c2f-a534-ef8c627b9f06"
      },
      "execution_count": null,
      "outputs": [
        {
          "output_type": "stream",
          "name": "stdout",
          "text": [
            "Nombre: Diego\n",
            "Apellido: maldonado\n"
          ]
        }
      ]
    },
    {
      "cell_type": "markdown",
      "source": [
        "3. Imprimiendo Nombre Letra por letra"
      ],
      "metadata": {
        "id": "rLIKuJfga7Lj"
      }
    },
    {
      "cell_type": "code",
      "source": [
        "print('D','I','E','G','O', sep ='\\n')"
      ],
      "metadata": {
        "colab": {
          "base_uri": "https://localhost:8080/"
        },
        "id": "a21i4m2cbARF",
        "outputId": "c45023dc-31b6-4668-855c-a37fccf12e84"
      },
      "execution_count": null,
      "outputs": [
        {
          "output_type": "stream",
          "name": "stdout",
          "text": [
            "D\n",
            "I\n",
            "E\n",
            "G\n",
            "O\n"
          ]
        }
      ]
    },
    {
      "cell_type": "markdown",
      "source": [
        "4. imprimiendo fecha de nacimiento en formato dia mes año"
      ],
      "metadata": {
        "id": "RJf5Duvqdu0n"
      }
    },
    {
      "cell_type": "code",
      "source": [
        "print(f'{27} Marzo {2025}')\n",
        "print(27,' Marzo ',2025)"
      ],
      "metadata": {
        "colab": {
          "base_uri": "https://localhost:8080/"
        },
        "id": "QlVwBz8Vd3ao",
        "outputId": "96b154e2-e65c-42bb-b755-2e39ec2c805f"
      },
      "execution_count": null,
      "outputs": [
        {
          "output_type": "stream",
          "name": "stdout",
          "text": [
            "27 Marzo 2025\n",
            "27  Marzo  2025\n"
          ]
        }
      ]
    },
    {
      "cell_type": "markdown",
      "source": [
        "5. Imprimiendo el año actual"
      ],
      "metadata": {
        "id": "NHD3FP-0q6I6"
      }
    },
    {
      "cell_type": "code",
      "source": [
        "from datetime import datetime\n",
        "año = datetime.now().year\n",
        "print(f'Año actual: {año}')\n",
        "print('Año actual:', año)"
      ],
      "metadata": {
        "colab": {
          "base_uri": "https://localhost:8080/"
        },
        "id": "I4bPQD00rKhG",
        "outputId": "cebb901b-383e-4265-bc18-4c72433c5fc6"
      },
      "execution_count": null,
      "outputs": [
        {
          "output_type": "stream",
          "name": "stdout",
          "text": [
            "Año actual: 2025\n",
            "Año actual:  2025\n"
          ]
        }
      ]
    },
    {
      "cell_type": "markdown",
      "source": [
        "##Variables"
      ],
      "metadata": {
        "id": "KwTHHWzRywTU"
      }
    },
    {
      "cell_type": "markdown",
      "source": [
        "ejemplo de variables"
      ],
      "metadata": {
        "id": "Ov5UMqjDyzB9"
      }
    },
    {
      "cell_type": "code",
      "source": [
        "d = 5\n",
        "c = 'diego'\n",
        "\n",
        "print(id(d))\n",
        "print(id(c))"
      ],
      "metadata": {
        "colab": {
          "base_uri": "https://localhost:8080/"
        },
        "id": "tDT9PMsUy26-",
        "outputId": "c7fa25d0-f686-4d21-c46c-c5e454535942"
      },
      "execution_count": null,
      "outputs": [
        {
          "output_type": "stream",
          "name": "stdout",
          "text": [
            "10750984\n",
            "136839110404272\n"
          ]
        }
      ]
    },
    {
      "cell_type": "markdown",
      "source": [
        "comentarios:"
      ],
      "metadata": {
        "id": "Ayln090Y2OhG"
      }
    },
    {
      "cell_type": "code",
      "source": [
        "#comentario de una linea\n",
        "'''\n",
        "Este es un comentario\n",
        "de varias lineas\n",
        "'''"
      ],
      "metadata": {
        "id": "IyiVogeN2Noj"
      },
      "execution_count": null,
      "outputs": []
    },
    {
      "cell_type": "markdown",
      "source": [
        "#Tipos de Variable"
      ],
      "metadata": {
        "id": "nAwkzV2T3cq-"
      }
    },
    {
      "cell_type": "markdown",
      "source": [
        "type() funcion, te dara el tipo de variable"
      ],
      "metadata": {
        "id": "0vfqVkoc3gfi"
      }
    },
    {
      "cell_type": "code",
      "source": [
        "edad = 5\n",
        "promedio = 3.4\n",
        "nombre = 'Diego'\n",
        "print(type(edad), type(promedio),type(nombre))\n"
      ],
      "metadata": {
        "colab": {
          "base_uri": "https://localhost:8080/"
        },
        "id": "m-Meq-Q_3gI6",
        "outputId": "b861e35a-9cbd-474e-d093-cbfed9785305"
      },
      "execution_count": null,
      "outputs": [
        {
          "output_type": "stream",
          "name": "stdout",
          "text": [
            "<class 'int'> <class 'float'> <class 'str'>\n"
          ]
        }
      ]
    },
    {
      "cell_type": "markdown",
      "source": [
        "### Ejemplo calculos"
      ],
      "metadata": {
        "id": "mGj8xF7Y79QK"
      }
    },
    {
      "cell_type": "code",
      "source": [
        "c_vigilante = 5\n",
        "s_vigilante = 300\n",
        "\n",
        "c_docente = 16\n",
        "s_docente = 500\n",
        "\n",
        "c_coordinador = 2\n",
        "s_coordinador = 600\n",
        "\n",
        "total_empleados = c_vigilante + c_docente + c_coordinador\n",
        "diferencia_salarios = s_coordinador - s_vigilante\n",
        "promedio_salario = (c_vigilante*s_vigilante + c_docente*s_docente\n",
        "                    + c_coordinador*s_coordinador)/total_empleados\n",
        "\n",
        "print(total_empleados,diferencia_salarios,promedio_salario)"
      ],
      "metadata": {
        "colab": {
          "base_uri": "https://localhost:8080/"
        },
        "id": "RHXKp_Os6HNV",
        "outputId": "66627ab7-dda2-455f-bef2-6c30ec53eb00"
      },
      "execution_count": null,
      "outputs": [
        {
          "output_type": "stream",
          "name": "stdout",
          "text": [
            "23 300 465.2173913043478\n"
          ]
        }
      ]
    },
    {
      "cell_type": "markdown",
      "source": [
        "##Strings"
      ],
      "metadata": {
        "id": "RDW7ip6HtkYy"
      }
    },
    {
      "cell_type": "markdown",
      "source": [
        "Un string es una cadena de caracteres alfanuméricos."
      ],
      "metadata": {
        "id": "xL9uLeUztozi"
      }
    },
    {
      "cell_type": "code",
      "source": [
        "t = 'Alura'\n",
        "type(t)"
      ],
      "metadata": {
        "colab": {
          "base_uri": "https://localhost:8080/"
        },
        "id": "Ua0Z52H8tx7a",
        "outputId": "16fa4f91-9bf6-45ee-b735-0505da80f19d"
      },
      "execution_count": null,
      "outputs": [
        {
          "output_type": "execute_result",
          "data": {
            "text/plain": [
              "str"
            ]
          },
          "metadata": {},
          "execution_count": 1
        }
      ]
    },
    {
      "cell_type": "markdown",
      "source": [
        "###Metodos\n",
        "\n",
        "para usar un metodo se utiliza la variable seguido de . y el nombre del metodo que se usara"
      ],
      "metadata": {
        "id": "ySt7kNzPue4r"
      }
    },
    {
      "cell_type": "code",
      "source": [
        "texto = ' Micaela Sanyos '"
      ],
      "metadata": {
        "id": "SSILENPkvAor"
      },
      "execution_count": null,
      "outputs": []
    },
    {
      "cell_type": "code",
      "source": [
        "id(texto)"
      ],
      "metadata": {
        "colab": {
          "base_uri": "https://localhost:8080/"
        },
        "id": "mF22jCSOvfkp",
        "outputId": "a873af18-76b0-4551-eabc-264ac506d996"
      },
      "execution_count": null,
      "outputs": [
        {
          "output_type": "execute_result",
          "data": {
            "text/plain": [
              "133735582200048"
            ]
          },
          "metadata": {},
          "execution_count": 5
        }
      ]
    },
    {
      "cell_type": "code",
      "source": [
        "texto.upper()"
      ],
      "metadata": {
        "colab": {
          "base_uri": "https://localhost:8080/",
          "height": 35
        },
        "id": "6hD98TiBv1_p",
        "outputId": "ca43519f-1b3f-4983-a518-48a5d8d6ceb5"
      },
      "execution_count": null,
      "outputs": [
        {
          "output_type": "execute_result",
          "data": {
            "text/plain": [
              "' MICAELA SANYOS '"
            ],
            "application/vnd.google.colaboratory.intrinsic+json": {
              "type": "string"
            }
          },
          "metadata": {},
          "execution_count": 6
        }
      ]
    },
    {
      "cell_type": "code",
      "source": [
        "texto.lower()"
      ],
      "metadata": {
        "colab": {
          "base_uri": "https://localhost:8080/",
          "height": 35
        },
        "id": "1ooH3muAwENu",
        "outputId": "5a72be70-71a2-496e-cc22-b668610010bc"
      },
      "execution_count": null,
      "outputs": [
        {
          "output_type": "execute_result",
          "data": {
            "text/plain": [
              "' micaela sanyos '"
            ],
            "application/vnd.google.colaboratory.intrinsic+json": {
              "type": "string"
            }
          },
          "metadata": {},
          "execution_count": 7
        }
      ]
    },
    {
      "cell_type": "code",
      "source": [
        "texto.strip()"
      ],
      "metadata": {
        "colab": {
          "base_uri": "https://localhost:8080/",
          "height": 35
        },
        "id": "Ky6vSrpcwYhs",
        "outputId": "1d727afc-574b-44fa-9dab-ab0b6f089850"
      },
      "execution_count": null,
      "outputs": [
        {
          "output_type": "execute_result",
          "data": {
            "text/plain": [
              "'Micaela Sanyos'"
            ],
            "application/vnd.google.colaboratory.intrinsic+json": {
              "type": "string"
            }
          },
          "metadata": {},
          "execution_count": 8
        }
      ]
    },
    {
      "cell_type": "code",
      "source": [
        "texto.replace('y','t')"
      ],
      "metadata": {
        "colab": {
          "base_uri": "https://localhost:8080/",
          "height": 35
        },
        "id": "y11CO2IPwoEN",
        "outputId": "405156e6-5213-45b3-db5b-25f5e8538d62"
      },
      "execution_count": null,
      "outputs": [
        {
          "output_type": "execute_result",
          "data": {
            "text/plain": [
              "' Micaela Santos '"
            ],
            "application/vnd.google.colaboratory.intrinsic+json": {
              "type": "string"
            }
          },
          "metadata": {},
          "execution_count": 9
        }
      ]
    },
    {
      "cell_type": "markdown",
      "source": [
        "Siempre apuntar la variable a una nueva para que se tome la modificacion"
      ],
      "metadata": {
        "id": "p--Q8DjoxdSw"
      }
    },
    {
      "cell_type": "code",
      "source": [
        "nuevo_texto = texto.strip().replace('y','t').upper()\n",
        "print(nuevo_texto)\n",
        "print(id(nuevo_texto))\n",
        "print(id(texto))"
      ],
      "metadata": {
        "colab": {
          "base_uri": "https://localhost:8080/"
        },
        "id": "g3wN_UnTxb3h",
        "outputId": "db7243f1-15bd-49d1-eeef-75c846328759"
      },
      "execution_count": null,
      "outputs": [
        {
          "output_type": "stream",
          "name": "stdout",
          "text": [
            "MICAELA SANTOS\n",
            "133736006220208\n",
            "133735582200048\n"
          ]
        }
      ]
    },
    {
      "cell_type": "code",
      "source": [
        "texto = texto.strip().replace('y','t').upper()\n",
        "print(nuevo_texto)\n",
        "print(id(nuevo_texto))\n",
        "print(id(texto))"
      ],
      "metadata": {
        "colab": {
          "base_uri": "https://localhost:8080/"
        },
        "id": "Wi9URraNyd5x",
        "outputId": "765a17ce-d5fc-4591-bc4d-78a467ece5f6"
      },
      "execution_count": null,
      "outputs": [
        {
          "output_type": "stream",
          "name": "stdout",
          "text": [
            "MICAELA SANTOS\n",
            "133736006220208\n",
            "133735580464112\n"
          ]
        }
      ]
    },
    {
      "cell_type": "markdown",
      "source": [
        "##Calculos Matematicos"
      ],
      "metadata": {
        "id": "-5VFT8qAzZ31"
      }
    },
    {
      "cell_type": "markdown",
      "source": [
        "potencia **\n",
        "\n",
        "Podemos elevar un número a una potencia específica utilizando el operador **. Para obtener este resultado, definimos un valor a la izquierda del operador y la potencia deseada del número a la derecha. Por ejemplo, sabemos que 2 elevado a la 3 es igual a 8 (2 * 2 * 2 = 8)."
      ],
      "metadata": {
        "id": "MVuELmsK0Y_L"
      }
    },
    {
      "cell_type": "code",
      "source": [
        "exponentecuadrado = 2**2\n",
        "print(exponentecuadrado)\n",
        "operador = 2\n",
        "potencia = 3\n",
        "print(operador ** potencia)"
      ],
      "metadata": {
        "colab": {
          "base_uri": "https://localhost:8080/"
        },
        "id": "w5dgW-yszk97",
        "outputId": "8b26f816-527a-4d8f-b102-86d9a81d9743"
      },
      "execution_count": null,
      "outputs": [
        {
          "output_type": "stream",
          "name": "stdout",
          "text": [
            "4\n",
            "8\n"
          ]
        }
      ]
    },
    {
      "cell_type": "markdown",
      "source": [
        "modulo %\n",
        "\n",
        "El operador de módulo % puede devolver el residuo de una división entera entre dos números. Recuerda que el residuo de una división es el número que queda cuando la división no es exacta.\n",
        "\n",
        "Para calcular el módulo de una división, colocamos el dividendo a la izquierda del operador % y el divisor a la derecha. Por ejemplo, para encontrar el residuo de la división de 7 entre 3"
      ],
      "metadata": {
        "id": "Lvlinr0f0bLd"
      }
    },
    {
      "cell_type": "code",
      "source": [
        "print(7%3)\n",
        "dividendo = 7\n",
        "divisor = 3\n",
        "print(dividendo % divisor)"
      ],
      "metadata": {
        "colab": {
          "base_uri": "https://localhost:8080/"
        },
        "id": "e9Epytpt0anf",
        "outputId": "08a0a2bd-8d16-4c2f-eba4-e0e44c9e7baa"
      },
      "execution_count": null,
      "outputs": [
        {
          "output_type": "stream",
          "name": "stdout",
          "text": [
            "1\n",
            "1\n"
          ]
        }
      ]
    },
    {
      "cell_type": "markdown",
      "source": [
        "Division entera (//)\n",
        "\n",
        "Esta operación devuelve el resultado de la división entera entre dos números, es decir, solo devuelve la parte entera de una división. Por ejemplo, sabemos que la división exacta de 7 por 3 (7/3) resulta en el valor 2.333333.... Si esta fuera una división entera, el resultado sería simplemente 2. La sintaxis consiste en colocar el valor del numerador, el operador // y luego el denominador"
      ],
      "metadata": {
        "id": "rZjK3Kfo1UzR"
      }
    },
    {
      "cell_type": "code",
      "source": [
        "numerador = 7\n",
        "denominador = 3\n",
        "print(numerador//denominador)"
      ],
      "metadata": {
        "id": "wJPPfmZQ1aGj",
        "colab": {
          "base_uri": "https://localhost:8080/"
        },
        "outputId": "85d1c538-1438-4f86-d226-86f6a2870b04"
      },
      "execution_count": null,
      "outputs": [
        {
          "output_type": "stream",
          "name": "stdout",
          "text": [
            "2\n"
          ]
        }
      ]
    },
    {
      "cell_type": "markdown",
      "source": [
        "##Colectando Datos"
      ],
      "metadata": {
        "id": "oC6yB5-l5N2B"
      }
    },
    {
      "cell_type": "code",
      "source": [
        "nombre = input('cual es tu nombre:')"
      ],
      "metadata": {
        "colab": {
          "base_uri": "https://localhost:8080/"
        },
        "id": "V34FeXL15Sby",
        "outputId": "23535ea1-69d0-427e-88f2-6d59851c0d8e"
      },
      "execution_count": null,
      "outputs": [
        {
          "name": "stdout",
          "output_type": "stream",
          "text": [
            "cual es tu nombre:Diego\n"
          ]
        }
      ]
    },
    {
      "cell_type": "code",
      "source": [
        "type(nombre)"
      ],
      "metadata": {
        "colab": {
          "base_uri": "https://localhost:8080/"
        },
        "id": "hMw-2Uy75i0w",
        "outputId": "306e2930-c37d-4ee3-bb9f-72bc8ffe263d"
      },
      "execution_count": null,
      "outputs": [
        {
          "output_type": "execute_result",
          "data": {
            "text/plain": [
              "str"
            ]
          },
          "metadata": {},
          "execution_count": 20
        }
      ]
    },
    {
      "cell_type": "code",
      "source": [
        "ano_admision = int(input('digita el año de admision: '))\n",
        "ano_salida = int(input('digita el año de salida: '))\n",
        "print('duraste ',ano_salida-ano_admision,'años estudiando')\n",
        "print(f'el año de admision fue {ano_admision}')"
      ],
      "metadata": {
        "colab": {
          "base_uri": "https://localhost:8080/"
        },
        "id": "_DywFK1u5u7f",
        "outputId": "7c8832f7-f126-4c6f-c859-3faa7d17096d"
      },
      "execution_count": null,
      "outputs": [
        {
          "output_type": "stream",
          "name": "stdout",
          "text": [
            "digita el año de admision: 2009\n",
            "digita el año de salida: 2014\n",
            "duraste  5 años estudiando\n",
            "el año de admision fue 2009\n"
          ]
        }
      ]
    },
    {
      "cell_type": "markdown",
      "source": [
        "1. Crea un programa que solicite al usuario que escriba su nombre y luego imprima hola nombre"
      ],
      "metadata": {
        "id": "14OHZ2Bs8F0u"
      }
    },
    {
      "cell_type": "code",
      "source": [
        "nombre = input('cual es tu nombre: ')\n",
        "print('hola ',nombre)"
      ],
      "metadata": {
        "colab": {
          "base_uri": "https://localhost:8080/"
        },
        "id": "5EFxdDNw8N9q",
        "outputId": "da253e3e-4a3a-43b9-e821-88048282b7be"
      },
      "execution_count": null,
      "outputs": [
        {
          "output_type": "stream",
          "name": "stdout",
          "text": [
            "cual es tu nombre: Diego\n",
            "hola  Diego\n"
          ]
        }
      ]
    },
    {
      "cell_type": "markdown",
      "source": [
        "2. Crea un programa que solicite al usuario que escriba su nombre y edad, y luego imprima \"Hola, [nombre], tienes [edad] años.\""
      ],
      "metadata": {
        "id": "RX0Gw9XQ810N"
      }
    },
    {
      "cell_type": "code",
      "source": [
        "nombre_usuario = input('cual es tu nombre: ')\n",
        "edad = int(input('cual es tu edad: '))\n",
        "\n",
        "print('hola,',nombre,', tienes ',edad,'años')"
      ],
      "metadata": {
        "colab": {
          "base_uri": "https://localhost:8080/"
        },
        "id": "mPw-SV-r8kIs",
        "outputId": "52b5e1b6-ee04-43aa-dd82-aad771592de5"
      },
      "execution_count": null,
      "outputs": [
        {
          "output_type": "stream",
          "name": "stdout",
          "text": [
            "cual es tu nombre: Diego\n",
            "cual es tu edad: 33\n",
            "hola, Diego , tienes  33 años\n"
          ]
        }
      ]
    },
    {
      "cell_type": "markdown",
      "source": [
        "3. Crea un programa que solicite al usuario que escriba su nombre, edad y altura en metros, y luego imprima \"Hola, [nombre], tienes [edad] años y mides [altura] metros.\""
      ],
      "metadata": {
        "id": "j0sDKDI_9lku"
      }
    },
    {
      "cell_type": "code",
      "source": [
        "nombre_usuario_nuevo = input('cual es tu nombre: ')\n",
        "edad_usuario = int(input('cual es tu edad: '))\n",
        "Altura_usuario = float(input('cual es tu altura en metros: '))\n",
        "\n",
        "print('hola,',nombre,', tienes ',edad,'años y mides',Altura_usuario,'años')"
      ],
      "metadata": {
        "colab": {
          "base_uri": "https://localhost:8080/"
        },
        "id": "4EuJUC0T9qaq",
        "outputId": "3db86e29-269f-42bd-82cf-18237df86554"
      },
      "execution_count": null,
      "outputs": [
        {
          "output_type": "stream",
          "name": "stdout",
          "text": [
            "cual es tu nombre: Diego\n",
            "cual es tu edad: 33\n",
            "cual es tu altura en metros: 1.79\n",
            "hola, Diego , tienes  33 años y mides 1.79 años\n"
          ]
        }
      ]
    },
    {
      "cell_type": "markdown",
      "source": [
        "4. Crea un programa que solicite dos valores numéricos al usuario y luego imprima la suma de ambos valores."
      ],
      "metadata": {
        "id": "BORHxRFf-p96"
      }
    },
    {
      "cell_type": "code",
      "source": [
        "numerouno = int(input('ingrese un numero: '))\n",
        "numerodos = int(input('ingrese el segundo numero: '))\n",
        "\n",
        "print('la suma de los dos numeros es:',(numerouno+numerodos))"
      ],
      "metadata": {
        "colab": {
          "base_uri": "https://localhost:8080/"
        },
        "id": "SrOu46Uo95cG",
        "outputId": "680ac11b-7769-473d-d46c-00d40c8a4650"
      },
      "execution_count": null,
      "outputs": [
        {
          "output_type": "stream",
          "name": "stdout",
          "text": [
            "ingrese un numero: 3\n",
            "ingrese el segundo numero: 5\n",
            "la suma de los dos numeros es: 8\n"
          ]
        }
      ]
    },
    {
      "cell_type": "markdown",
      "source": [
        "5. Crea un programa que solicite tres valores numéricos al usuario y luego imprima la suma de los tres valores."
      ],
      "metadata": {
        "id": "oG2cwZD4_r2l"
      }
    },
    {
      "cell_type": "code",
      "source": [
        "numerouno = int(input('ingrese un numero: '))\n",
        "numerodos = int(input('ingrese el segundo numero: '))\n",
        "numerotres = int(input('ingrese el tercer numero: '))\n",
        "\n",
        "print('la suma de los tres numeros es:',(numerouno+numerodos+numerotres))"
      ],
      "metadata": {
        "colab": {
          "base_uri": "https://localhost:8080/"
        },
        "id": "XpYHYM_V_w9K",
        "outputId": "1571aeb1-d1bf-4f4a-e0d6-36039a06f5e9"
      },
      "execution_count": null,
      "outputs": [
        {
          "output_type": "stream",
          "name": "stdout",
          "text": [
            "ingrese un numero: 4\n",
            "ingrese el segundo numero: 5\n",
            "ingrese el tercer numero: 6\n",
            "la suma de los tres numeros es: 15\n"
          ]
        }
      ]
    },
    {
      "cell_type": "markdown",
      "source": [
        "6. Crea un programa que solicite dos valores numéricos al usuario y luego imprima la resta del primero menos el segundo valor."
      ],
      "metadata": {
        "id": "D21Bh0MWAD_9"
      }
    },
    {
      "cell_type": "code",
      "source": [
        "numerouno = int(input('ingrese un numero: '))\n",
        "numerodos = int(input('ingrese el segundo numero: '))\n",
        "\n",
        "print('la resta de los dos numeros es:',(numerouno-numerodos))"
      ],
      "metadata": {
        "colab": {
          "base_uri": "https://localhost:8080/"
        },
        "id": "5TQaApMDAPl3",
        "outputId": "679f7783-8e74-4879-f91b-4a8cf3b83278"
      },
      "execution_count": null,
      "outputs": [
        {
          "output_type": "stream",
          "name": "stdout",
          "text": [
            "ingrese un numero: 10\n",
            "ingrese el segundo numero: 4\n",
            "la resta de los dos numeros es: 6\n"
          ]
        }
      ]
    },
    {
      "cell_type": "markdown",
      "source": [
        "7. Crea un programa que solicite dos valores numéricos al usuario y luego imprima la multiplicación de los dos valores."
      ],
      "metadata": {
        "id": "UFhlffA5Aljn"
      }
    },
    {
      "cell_type": "code",
      "source": [
        "numerouno = int(input('ingrese un numero: '))\n",
        "numerodos = int(input('ingrese el segundo numero: '))\n",
        "\n",
        "print('la multiplicación de los dos numeros:',(numerouno*numerodos))"
      ],
      "metadata": {
        "colab": {
          "base_uri": "https://localhost:8080/"
        },
        "id": "xIbIBbW8Axt-",
        "outputId": "e5e0bf9e-a892-4e87-a487-33b0d8de23b1"
      },
      "execution_count": null,
      "outputs": [
        {
          "output_type": "stream",
          "name": "stdout",
          "text": [
            "ingrese un numero: 2\n",
            "ingrese el segundo numero: 2\n",
            "la multiplicación de los dos numeros: 4\n"
          ]
        }
      ]
    },
    {
      "cell_type": "markdown",
      "source": [
        "8. Crea un programa que solicite dos valores numéricos, un numerador y un denominador, y realice la división entre los dos valores. Asegúrate de que el valor del denominador no sea igual a 0."
      ],
      "metadata": {
        "id": "UJJhRKJCBGyu"
      }
    },
    {
      "cell_type": "code",
      "source": [
        "numerador = int(input('ingrese un numero: '))\n",
        "denominador = int(input('ingrese el segundo numero: '))\n",
        "\n",
        "if denominador == 0:\n",
        "  denominador = int(input('el numero debe ser diferente de cero :'))\n",
        "else:\n",
        "  denominador = denominador\n",
        "\n",
        "print('la division de los dos numeros es:',(numerador/denominador))"
      ],
      "metadata": {
        "id": "iSgTqQwpBMeA",
        "colab": {
          "base_uri": "https://localhost:8080/"
        },
        "outputId": "567da7e0-8dc8-4aaf-8125-70fa2f527b98"
      },
      "execution_count": 39,
      "outputs": [
        {
          "output_type": "stream",
          "name": "stdout",
          "text": [
            "ingrese un numero: 5\n",
            "ingrese el segundo numero: 2\n",
            "la division de los dos numeros es: 2.5\n"
          ]
        }
      ]
    },
    {
      "cell_type": "markdown",
      "source": [
        "9. Crea un programa que solicite dos valores numéricos, un operador y una potencia, y realice la exponenciación entre estos dos valores."
      ],
      "metadata": {
        "id": "5uyvvqF3DbF6"
      }
    },
    {
      "cell_type": "code",
      "source": [
        "operador = int(input('ingrese un numero: '))\n",
        "potencia = int(input('ingrese la potencia: '))\n",
        "\n",
        "print('la multiplicación de los dos numeros:',(operador**potencia))"
      ],
      "metadata": {
        "colab": {
          "base_uri": "https://localhost:8080/"
        },
        "id": "-NYZz_uZDfs_",
        "outputId": "037e5a03-4c8d-40c4-d893-5bd72c32d9ee"
      },
      "execution_count": 40,
      "outputs": [
        {
          "output_type": "stream",
          "name": "stdout",
          "text": [
            "ingrese un numero: 2\n",
            "ingrese la potencia: 2\n",
            "la multiplicación de los dos numeros: 4\n"
          ]
        }
      ]
    },
    {
      "cell_type": "markdown",
      "source": [
        "10.  Crea un programa que solicite dos valores numéricos, un numerador y un denominador, y realice la división entera entre los dos valores. Asegúrate de que el valor del denominador no sea igual a 0."
      ],
      "metadata": {
        "id": "Je_q8akFD8hP"
      }
    },
    {
      "cell_type": "code",
      "source": [
        "numerador = int(input('ingrese un numero: '))\n",
        "denominador = int(input('ingrese el segundo numero: '))\n",
        "\n",
        "if denominador == 0:\n",
        "  denominador = int(input('el numero debe ser diferente de cero :'))\n",
        "else:\n",
        "  denominador = denominador\n",
        "\n",
        "print('la division de los dos numeros es:',(numerador/denominador))"
      ],
      "metadata": {
        "colab": {
          "base_uri": "https://localhost:8080/"
        },
        "id": "Y-CyPHP2D_xC",
        "outputId": "e7634686-be67-4e61-ac57-737105c188c6"
      },
      "execution_count": 41,
      "outputs": [
        {
          "output_type": "stream",
          "name": "stdout",
          "text": [
            "ingrese un numero: 3\n",
            "ingrese el segundo numero: 0\n",
            "el numero debe ser diferente de cero :2\n",
            "la division de los dos numeros es: 1.5\n"
          ]
        }
      ]
    },
    {
      "cell_type": "markdown",
      "source": [
        "11. Crea un programa que solicite dos valores numéricos, un numerador y un denominador, y devuelva el resto de la división entre los dos valores. Asegúrate de que el valor del denominador no sea igual a 0."
      ],
      "metadata": {
        "id": "eZLiYZpwEZwo"
      }
    },
    {
      "cell_type": "code",
      "source": [
        "numerador = int(input('ingrese un numero: '))\n",
        "denominador = int(input('ingrese el segundo numero: '))\n",
        "\n",
        "if denominador == 0:\n",
        "  denominador = int(input('el numero debe ser diferente de cero :'))\n",
        "else:\n",
        "  denominador = denominador\n",
        "\n",
        "print('el residuo de los dos numeros es:',(numerador%denominador))"
      ],
      "metadata": {
        "colab": {
          "base_uri": "https://localhost:8080/"
        },
        "id": "AxCui60FEfy0",
        "outputId": "ea96a887-6bfb-4fac-f539-ef2b365f5efd"
      },
      "execution_count": 43,
      "outputs": [
        {
          "output_type": "stream",
          "name": "stdout",
          "text": [
            "ingrese un numero: 6\n",
            "ingrese el segundo numero: 3\n",
            "el residuo de los dos numeros es: 0\n"
          ]
        }
      ]
    },
    {
      "cell_type": "markdown",
      "source": [
        "12. Crea un código que solicite las 3 notas de un estudiante e imprima el promedio de las notas."
      ],
      "metadata": {
        "id": "kMPH-IL-E0wJ"
      }
    },
    {
      "cell_type": "code",
      "source": [
        "n_matematicas = float(input('ingrese la nota de matematicas: '))\n",
        "n_sociales = float(input('ingrese la nota de sociales: '))\n",
        "n_fisica = float(input('ingrese la nota de fisica: '))\n",
        "\n",
        "print('el promedio de tus notas son:',(n_fisica+n_matematicas+n_sociales)/3)"
      ],
      "metadata": {
        "colab": {
          "base_uri": "https://localhost:8080/"
        },
        "id": "n02RvRA7E4hI",
        "outputId": "b5555dbd-802d-4054-b5e1-822bab3c8a5c"
      },
      "execution_count": 44,
      "outputs": [
        {
          "output_type": "stream",
          "name": "stdout",
          "text": [
            "ingrese la nota de matematicas: 3\n",
            "ingrese la nota de sociales: 3.2\n",
            "ingrese la nota de fisica: 5\n",
            "el promedio de tus notas son: 3.733333333333333\n"
          ]
        }
      ]
    },
    {
      "cell_type": "markdown",
      "source": [
        "13. Crea un código que calcule e imprima el promedio ponderado de los números 5, 12, 20 y 15 con pesos respectivamente iguales a 1, 2, 3 y 4."
      ],
      "metadata": {
        "id": "TIOuIVdNxb18"
      }
    },
    {
      "cell_type": "code",
      "source": [
        "n_matematicas = 5*1\n",
        "n_sociales = 12*2\n",
        "n_fisica = 20*3\n",
        "n_quimica = 15*4\n",
        "\n",
        "print('el promedio de tus notas son:',(n_fisica+n_matematicas+n_sociales+n_quimica)/((1+2+3+4)))"
      ],
      "metadata": {
        "colab": {
          "base_uri": "https://localhost:8080/"
        },
        "id": "XMS9gObCxhJu",
        "outputId": "d465e86d-ab86-40c4-99ca-2987d7f42af4"
      },
      "execution_count": 5,
      "outputs": [
        {
          "output_type": "stream",
          "name": "stdout",
          "text": [
            "el promedio de tus notas son: 14.9\n"
          ]
        }
      ]
    },
    {
      "cell_type": "markdown",
      "source": [
        "14.  Crea una variable llamada \"frase\" y asígnale una cadena de texto de tu elección. Luego, imprime la frase en pantalla."
      ],
      "metadata": {
        "id": "XF1bHeqIzX_0"
      }
    },
    {
      "cell_type": "code",
      "source": [
        "frase = 'la frase, es lo mas importante de colombia'\n",
        "print(frase)"
      ],
      "metadata": {
        "colab": {
          "base_uri": "https://localhost:8080/"
        },
        "id": "E2bjoNT1zhc2",
        "outputId": "2ad8e3ff-698f-463a-f9ea-634bb940a3be"
      },
      "execution_count": 7,
      "outputs": [
        {
          "output_type": "stream",
          "name": "stdout",
          "text": [
            "la frase, es lo mas importante de colombia\n"
          ]
        }
      ]
    },
    {
      "cell_type": "markdown",
      "source": [
        "15. Crea un código que solicite una frase y luego imprima la frase en pantalla."
      ],
      "metadata": {
        "id": "ICm_L8PWz7MV"
      }
    },
    {
      "cell_type": "code",
      "source": [
        "frase_usuario = input('ingresa un frase: ')\n",
        "print(frase_usuario)"
      ],
      "metadata": {
        "colab": {
          "base_uri": "https://localhost:8080/"
        },
        "id": "K5v1up2e0Dl0",
        "outputId": "68485d7a-f7eb-416e-ef67-97c6489c8da6"
      },
      "execution_count": 9,
      "outputs": [
        {
          "output_type": "stream",
          "name": "stdout",
          "text": [
            "ingresa un frase: la frase como el comodin del amor\n",
            "la frase como el comodin del amor\n"
          ]
        }
      ]
    },
    {
      "cell_type": "markdown",
      "source": [
        "16. Crea un código que solicite una frase al usuario y luego imprima la misma frase ingresada pero en mayúsculas."
      ],
      "metadata": {
        "id": "5YaEb4Rc0A6-"
      }
    },
    {
      "cell_type": "code",
      "source": [
        "frase_ingresada = input('ingrese una frase: ')\n",
        "frase_nueva = frase_ingresada.upper()\n",
        "print(frase_nueva)"
      ],
      "metadata": {
        "colab": {
          "base_uri": "https://localhost:8080/"
        },
        "id": "oV4zsQ0q0cyb",
        "outputId": "e9896a10-a0e3-4c9d-8e0b-a2bacf948a74"
      },
      "execution_count": 12,
      "outputs": [
        {
          "output_type": "stream",
          "name": "stdout",
          "text": [
            "ingrese una frase: frase como el comodin del amor\n",
            "FRASE COMO EL COMODIN DEL AMOR\n"
          ]
        }
      ]
    },
    {
      "cell_type": "markdown",
      "source": [
        "17. Crea un código que solicite una frase al usuario y luego imprima la misma frase ingresada pero en minúsculas."
      ],
      "metadata": {
        "id": "67LkiXp21T7M"
      }
    },
    {
      "cell_type": "code",
      "source": [
        "frase_ingresada = input('ingrese una frase: ')\n",
        "frase_nueva = frase_ingresada.lower()\n",
        "print(frase_nueva)"
      ],
      "metadata": {
        "colab": {
          "base_uri": "https://localhost:8080/"
        },
        "id": "5fLMEMXT1XSs",
        "outputId": "d92d990b-791f-4a5a-e930-58a7b0b3a6cb"
      },
      "execution_count": 13,
      "outputs": [
        {
          "output_type": "stream",
          "name": "stdout",
          "text": [
            "ingrese una frase: HOLA CAMALEON COMO ESTAS?\n",
            "hola camaleon como estas?\n"
          ]
        }
      ]
    },
    {
      "cell_type": "markdown",
      "source": [
        "18. Crea una variable llamada \"frase\" y asígnale una cadena de texto de tu elección. Luego, imprime la frase sin espacios en blanco al principio y al final."
      ],
      "metadata": {
        "id": "rm6crYKQ1oTO"
      }
    },
    {
      "cell_type": "code",
      "source": [
        "frase_con_espacios = ' Diego es un buen estudiandte '\n",
        "frase_nueva = frase_con_espacios.strip()\n",
        "print(frase_nueva)"
      ],
      "metadata": {
        "colab": {
          "base_uri": "https://localhost:8080/"
        },
        "id": "a0Fkdcl91tAC",
        "outputId": "7c282167-7625-4f1c-bc71-c559a86c3589"
      },
      "execution_count": 15,
      "outputs": [
        {
          "output_type": "stream",
          "name": "stdout",
          "text": [
            "Diego es un buen estudiandte\n"
          ]
        }
      ]
    },
    {
      "cell_type": "markdown",
      "source": [
        "19. Crea un código que solicite una frase al usuario y luego imprima la misma frase sin espacios en blanco al principio y al final."
      ],
      "metadata": {
        "id": "YS9F8kjy2O_Y"
      }
    },
    {
      "cell_type": "code",
      "source": [
        "frase_ingresada = input('ingrese una frase: ')\n",
        "frase_nueva = frase_ingresada.strip()\n",
        "print(frase_nueva)"
      ],
      "metadata": {
        "colab": {
          "base_uri": "https://localhost:8080/"
        },
        "id": "Cp-K3dwf2Tbq",
        "outputId": "4acbc79e-0ccb-4ff9-a4b8-8ec2eb777eed"
      },
      "execution_count": 16,
      "outputs": [
        {
          "output_type": "stream",
          "name": "stdout",
          "text": [
            "ingrese una frase:   Oliver es un gato negro y cariñoso.  \n",
            "Oliver es un gato negro y cariñoso.\n"
          ]
        }
      ]
    },
    {
      "cell_type": "markdown",
      "source": [
        "20. Crea un código que solicite una frase al usuario y luego imprima la misma frase sin espacios en blanco al principio y al final, además de convertirla a minúsculas."
      ],
      "metadata": {
        "id": "tdd3uUn_2_TT"
      }
    },
    {
      "cell_type": "code",
      "source": [
        "frase_ingresada = input('ingrese una frase: ')\n",
        "frase_nueva = frase_ingresada.strip().lower()\n",
        "print(frase_nueva)"
      ],
      "metadata": {
        "colab": {
          "base_uri": "https://localhost:8080/"
        },
        "id": "5VwU4q8h3Fl_",
        "outputId": "2d7ca087-0d5c-4d41-bac3-dc4020d2e614"
      },
      "execution_count": 17,
      "outputs": [
        {
          "output_type": "stream",
          "name": "stdout",
          "text": [
            "ingrese una frase:    DIEGO ES EL MEJOR ESTUDIANTE. \n",
            "diego es el mejor estudiante.\n"
          ]
        }
      ]
    },
    {
      "cell_type": "markdown",
      "source": [
        "21. Crea un código que solicite una frase al usuario y luego imprima la misma frase con todas las vocales \"e\" reemplazadas por la letra \"f\"."
      ],
      "metadata": {
        "id": "A1Dx_IKH3zSW"
      }
    },
    {
      "cell_type": "code",
      "source": [
        "frase_ingresada = input('ingrese una frase: ')\n",
        "frase_nueva = frase_ingresada.strip().lower().replace('e','f')\n",
        "print(frase_nueva)"
      ],
      "metadata": {
        "colab": {
          "base_uri": "https://localhost:8080/"
        },
        "id": "g7UKK5G333iR",
        "outputId": "5b8f6138-0034-4857-e03d-7c1dbd04cdce"
      },
      "execution_count": 19,
      "outputs": [
        {
          "output_type": "stream",
          "name": "stdout",
          "text": [
            "ingrese una frase:  DIEGO ES EL MEJOR ESTUDIANTE DE ONE \n",
            "difgo fs fl mfjor fstudiantf df onf\n"
          ]
        }
      ]
    },
    {
      "cell_type": "markdown",
      "source": [
        "22. Crea un código que solicite una frase al usuario y luego imprima la misma frase con todas las vocales \"a\" reemplazadas por el carácter \"@\"."
      ],
      "metadata": {
        "id": "B8m63n3L4Y9r"
      }
    },
    {
      "cell_type": "code",
      "source": [
        "frase_ingresada = input('ingrese una frase: ')\n",
        "frase_nueva = frase_ingresada.strip().lower().replace('a','@')\n",
        "print(frase_nueva)"
      ],
      "metadata": {
        "colab": {
          "base_uri": "https://localhost:8080/"
        },
        "id": "p13_fIus4d_M",
        "outputId": "e68aef96-8781-4c69-f03e-3c2c6b833a1f"
      },
      "execution_count": 20,
      "outputs": [
        {
          "output_type": "stream",
          "name": "stdout",
          "text": [
            "ingrese una frase: OLIVER ES UN GATO MUY JUICIOSO Y CARIÑOSO \n",
            "oliver es un g@to muy juicioso y c@riñoso\n"
          ]
        }
      ]
    },
    {
      "cell_type": "markdown",
      "source": [
        "23. Crea un código que solicite una frase al usuario y luego imprima la misma frase con todas las consonantes \"s\" reemplazadas por el carácter \"$\"."
      ],
      "metadata": {
        "id": "lVuulcTu41EW"
      }
    },
    {
      "cell_type": "code",
      "source": [
        "frase_ingresada = input('ingrese una frase: ')\n",
        "frase_nueva = frase_ingresada.strip().lower().replace('s','$')\n",
        "print(frase_nueva)"
      ],
      "metadata": {
        "colab": {
          "base_uri": "https://localhost:8080/"
        },
        "id": "LmZju35645B6",
        "outputId": "15f46812-e0c2-43ab-b403-af7e78bf7cb0"
      },
      "execution_count": 21,
      "outputs": [
        {
          "output_type": "stream",
          "name": "stdout",
          "text": [
            "ingrese una frase: Maria es una estudiante muy inteligente se esfuerza mucho \n",
            "maria e$ una e$tudiante muy inteligente $e e$fuerza mucho\n"
          ]
        }
      ]
    },
    {
      "cell_type": "markdown",
      "source": [
        "##Estructuras condicionales IF & ELSE"
      ],
      "metadata": {
        "id": "4UKE8Nje6m-U"
      }
    },
    {
      "cell_type": "markdown",
      "source": [
        "¿Qué es una estructura condicional?\n",
        "\n",
        "*   Es una estructura que controla el flujo del programa.\n",
        "*   Permite ejecutar diferentes bloques de código según si una condición es verdadera o falsa."
      ],
      "metadata": {
        "id": "AVM4RlX39u0C"
      }
    },
    {
      "cell_type": "code",
      "source": [
        "# Nota de aprobacion entre 7 y 8\n",
        "# Nota de reprobacion es menor a 7\n",
        "\n",
        "\"\"\"\n",
        "aca podemos comentar tambien\n",
        "\"\"\"\n",
        "\n",
        "nota_Diego = 1.5\n",
        "\n",
        "if nota_Diego >= 7:\n",
        "  print('Aprobo')\n",
        "else :\n",
        "  print('desaprobo')"
      ],
      "metadata": {
        "colab": {
          "base_uri": "https://localhost:8080/"
        },
        "id": "RMilDb5a6p05",
        "outputId": "29437d5d-e575-4582-f68a-0242fcc6d250"
      },
      "execution_count": 23,
      "outputs": [
        {
          "output_type": "stream",
          "name": "stdout",
          "text": [
            "desaprobo\n"
          ]
        }
      ]
    },
    {
      "cell_type": "code",
      "source": [
        "Edad_Juan = int(input('cual es la edad de Juan: '))\n",
        "Edad_Diego= int(input('cual es la edad de Diego: '))\n",
        "\n",
        "if Edad_Juan > Edad_Diego:\n",
        "  print('Juan es mayor que Diego')\n",
        "else :\n",
        "  print('Diego es mayor que Juan')"
      ],
      "metadata": {
        "colab": {
          "base_uri": "https://localhost:8080/"
        },
        "id": "0Lk8P9wX-_LA",
        "outputId": "2f9b670e-7b2a-4525-b184-59c8abf03f34"
      },
      "execution_count": 24,
      "outputs": [
        {
          "output_type": "stream",
          "name": "stdout",
          "text": [
            "cual es la edad de Juan: 5\n",
            "cual es la edad de Diego: 6\n",
            "Diego es mayor que Juan\n"
          ]
        }
      ]
    },
    {
      "cell_type": "markdown",
      "source": [
        "Mayor que (>)\n",
        "\n",
        "\n",
        "*   Devuelve verdadero si el valor a la izquierda del símbolo es mayor que el de la derecha. Su sintaxis, valor_1 > valor_2, representa una comparación que solo será verdadera si valor_1 es mayor que valor_2.\n"
      ],
      "metadata": {
        "id": "SIgCnMNgBRaF"
      }
    },
    {
      "cell_type": "code",
      "source": [
        "edad_maria = int(input('Ingrese la edad de María: '))\n",
        "edad_beatriz = int(input('Ingrese la edad de Beatriz: '))\n",
        "\n",
        "if edad_maria > edad_beatriz:\n",
        "  print('María es mayor que Beatriz.')\n"
      ],
      "metadata": {
        "colab": {
          "base_uri": "https://localhost:8080/"
        },
        "id": "_Siv3ujmBKyu",
        "outputId": "31d4b507-ac9c-48f7-f4d8-b22b169c0b8b"
      },
      "execution_count": 25,
      "outputs": [
        {
          "output_type": "stream",
          "name": "stdout",
          "text": [
            "Ingrese la edad de María: 6\n",
            "Ingrese la edad de Beatriz: 5\n",
            "María es mayor que Beatriz.\n"
          ]
        }
      ]
    },
    {
      "cell_type": "markdown",
      "source": [
        "\n",
        "Menor que (<)\n",
        "\n",
        "*   Devuelve verdadero si el valor a la izquierda del símbolo es menor que el de la derecha. Su sintaxis es valor_1 < valor_2. Esta comparación solo será verdadera si valor_1 es menor que valor_2."
      ],
      "metadata": {
        "id": "sWVqkDZTBaDC"
      }
    },
    {
      "cell_type": "code",
      "source": [
        "edad_maria = int(input('Ingrese la edad de María: '))\n",
        "edad_beatriz = int(input('Ingrese la edad de Beatriz: '))\n",
        "\n",
        "if edad_maria < edad_beatriz:\n",
        "  print('María es menor que Beatriz.')\n"
      ],
      "metadata": {
        "colab": {
          "base_uri": "https://localhost:8080/"
        },
        "id": "PPHlD9enBgSK",
        "outputId": "758389e4-8671-4e9f-e366-3c1df45c8a48"
      },
      "execution_count": 26,
      "outputs": [
        {
          "output_type": "stream",
          "name": "stdout",
          "text": [
            "Ingrese la edad de María: 6\n",
            "Ingrese la edad de Beatriz: 7\n",
            "María es menor que Beatriz.\n"
          ]
        }
      ]
    },
    {
      "cell_type": "markdown",
      "source": [
        "Mayor o igual a (>=)\n",
        "\n",
        "\n",
        "*   Devuelve verdadero si el valor a la izquierda del símbolo es mayor o igual al valor a la derecha. Su sintaxis es valor_1 >= valor_2. Esta comparación solo será verdadera si valor_1 es mayor o igual a valor_2."
      ],
      "metadata": {
        "id": "3ePZRK4FBrKX"
      }
    },
    {
      "cell_type": "code",
      "source": [
        "empleados_empresa_1 = int(input('Ingrese la cantidad de empleados de la empresa 1: '))\n",
        "empleados_empresa_2 = int(input('Ingrese la cantidad de empleados de la empresa 2: '))\n",
        "\n",
        "if empleados_empresa_1 >= empleados_empresa_2:\n",
        "  print('La empresa 1 tiene una cantidad de empleados mayor o igual a la empresa 2.')\n"
      ],
      "metadata": {
        "colab": {
          "base_uri": "https://localhost:8080/"
        },
        "id": "8vJiu5nqBz_6",
        "outputId": "7a4f2280-b06b-40ce-e55b-e1fe15948753"
      },
      "execution_count": 27,
      "outputs": [
        {
          "output_type": "stream",
          "name": "stdout",
          "text": [
            "Ingrese la cantidad de empleados de la empresa 1: 9\n",
            "Ingrese la cantidad de empleados de la empresa 2: 2\n",
            "La empresa 1 tiene una cantidad de empleados mayor o igual a la empresa 2.\n"
          ]
        }
      ]
    },
    {
      "cell_type": "markdown",
      "source": [
        "Menor o igual a (<=)\n",
        "\n",
        "\n",
        "*   Devuelve verdadero si el valor a la izquierda del símbolo es menor o igual al valor de la derecha. Su sintaxis es valor_1 <= valor_2. Esta comparación solo será verdadera si valor_1 es menor o igual a valor_2."
      ],
      "metadata": {
        "id": "oFv0eraIB6ZP"
      }
    },
    {
      "cell_type": "code",
      "source": [
        "empleados_empresa_1 = int(input('Ingrese la cantidad de empleados de la empresa 1: '))\n",
        "empleados_empresa_2 = int(input('Ingrese la cantidad de empleados de la empresa 2: '))\n",
        "\n",
        "if empleados_empresa_1 <= empleados_empresa_2:\n",
        "  print('La empresa 1 tiene una cantidad de empleados menor o igual a la empresa 2.')\n"
      ],
      "metadata": {
        "colab": {
          "base_uri": "https://localhost:8080/"
        },
        "id": "ld5xk8dbCCeM",
        "outputId": "35413990-4928-4cb9-f071-beff28cec92c"
      },
      "execution_count": 29,
      "outputs": [
        {
          "output_type": "stream",
          "name": "stdout",
          "text": [
            "Ingrese la cantidad de empleados de la empresa 1: 6\n",
            "Ingrese la cantidad de empleados de la empresa 2: 7\n",
            "La empresa 1 tiene una cantidad de empleados menor o igual a la empresa 2.\n"
          ]
        }
      ]
    },
    {
      "cell_type": "markdown",
      "source": [
        "\n",
        "Igual a (==)\n",
        "\n",
        "\n",
        "*   Devuelve verdadero si el valor a la izquierda del símbolo es igual al valor de la derecha. Su sintaxis, valor_1 == valor_2, representa una comparación que solo será verdadera si valor_1 es igual a valor_2.\n"
      ],
      "metadata": {
        "id": "PkMiyGEOCPa0"
      }
    },
    {
      "cell_type": "code",
      "source": [
        "libro_1 = input('Ingrese el título del 1° libro: ')\n",
        "libro_2 = input('Ingrese el título del 2° libro: ')\n",
        "\n",
        "if libro_1 == libro_2:\n",
        "  print('Los libros tienen el mismo título.')\n"
      ],
      "metadata": {
        "colab": {
          "base_uri": "https://localhost:8080/"
        },
        "id": "phZca08DCX-i",
        "outputId": "a50f2c39-626c-4a22-8b8a-45c602eef760"
      },
      "execution_count": 30,
      "outputs": [
        {
          "output_type": "stream",
          "name": "stdout",
          "text": [
            "Ingrese el título del 1° libro: PRINCIPITO\n",
            "Ingrese el título del 2° libro: PRINCIPITO\n",
            "Los libros tienen el mismo título.\n"
          ]
        }
      ]
    },
    {
      "cell_type": "markdown",
      "source": [
        "Diferente de (!=)\n",
        "\n",
        "\n",
        "*   Devuelve verdadero si el valor a la izquierda del símbolo es diferente del valor a la derecha. Su sintaxis, valor_1 != valor_2, representa una comparación que solo será verdadera si valor_1 es diferente de valor_2."
      ],
      "metadata": {
        "id": "XzikEUaPCiBB"
      }
    },
    {
      "cell_type": "code",
      "source": [
        "libro_1 = input('Ingrese el título del 1° libro: ')\n",
        "libro_2 = input('Ingrese el título del 2° libro: ')\n",
        "\n",
        "if libro_1 != libro_2:\n",
        "  print('Los libros tienen títulos diferentes.')\n"
      ],
      "metadata": {
        "colab": {
          "base_uri": "https://localhost:8080/"
        },
        "id": "xe-51TeFCnXa",
        "outputId": "7c6a779e-b15b-41f7-8424-98989dcad92e"
      },
      "execution_count": 31,
      "outputs": [
        {
          "output_type": "stream",
          "name": "stdout",
          "text": [
            "Ingrese el título del 1° libro: PRINCIPITO\n",
            "Ingrese el título del 2° libro: LA SOLEDAD\n",
            "Los libros tienen títulos diferentes.\n"
          ]
        }
      ]
    },
    {
      "cell_type": "markdown",
      "source": [
        "## elif"
      ],
      "metadata": {
        "id": "gWNTEmxwaJ7l"
      }
    },
    {
      "cell_type": "code",
      "source": [
        "nota_Diego = float(input('cual es la nota de Diego: '))\n",
        "\n",
        "if nota_Diego >= 7:\n",
        "  print('Aprobo')\n",
        "elif nota_Diego >= 5:\n",
        "  print('curso recuperación')\n",
        "else:\n",
        "  print('Reaprobo')"
      ],
      "metadata": {
        "colab": {
          "base_uri": "https://localhost:8080/"
        },
        "id": "4vo90NLJDLpU",
        "outputId": "4144a766-29aa-43ca-9446-4ac21150f605"
      },
      "execution_count": 32,
      "outputs": [
        {
          "output_type": "stream",
          "name": "stdout",
          "text": [
            "cual es la nota de Diego: 5.6\n",
            "curso recuperación\n"
          ]
        }
      ]
    }
  ]
}