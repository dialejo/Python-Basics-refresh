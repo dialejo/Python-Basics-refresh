{
  "nbformat": 4,
  "nbformat_minor": 0,
  "metadata": {
    "colab": {
      "provenance": [],
      "authorship_tag": "ABX9TyOyF9EAfkwmytTWCtNSxRyw",
      "include_colab_link": true
    },
    "kernelspec": {
      "name": "python3",
      "display_name": "Python 3"
    },
    "language_info": {
      "name": "python"
    }
  },
  "cells": [
    {
      "cell_type": "markdown",
      "metadata": {
        "id": "view-in-github",
        "colab_type": "text"
      },
      "source": [
        "<a href=\"https://colab.research.google.com/github/dialejo/Python-Basics-refresh/blob/main/Phyton%20para%20Data%20Science.ipynb\" target=\"_parent\"><img src=\"https://colab.research.google.com/assets/colab-badge.svg\" alt=\"Open In Colab\"/></a>"
      ]
    },
    {
      "cell_type": "markdown",
      "source": [
        "##Phyton para Data Science"
      ],
      "metadata": {
        "id": "-HVTjbYNUd6r"
      }
    },
    {
      "cell_type": "markdown",
      "source": [
        "#### Hola mundo"
      ],
      "metadata": {
        "id": "GEFNosIdW7Fy"
      }
    },
    {
      "cell_type": "code",
      "source": [
        "print('¡Hola mundo!')"
      ],
      "metadata": {
        "colab": {
          "base_uri": "https://localhost:8080/"
        },
        "id": "v_KmPA2oW4dR",
        "outputId": "c552f694-b83c-4de6-c6fd-f024a9af384c"
      },
      "execution_count": null,
      "outputs": [
        {
          "output_type": "stream",
          "name": "stdout",
          "text": [
            "¡Hola mundo!\n"
          ]
        }
      ]
    },
    {
      "cell_type": "code",
      "source": [
        "print('Me llamo Díego, estoy repasando un poco phyton')"
      ],
      "metadata": {
        "colab": {
          "base_uri": "https://localhost:8080/"
        },
        "id": "10HhK_agYYNf",
        "outputId": "73f7837d-6e7b-44fe-88c2-fb8fb8359466"
      },
      "execution_count": null,
      "outputs": [
        {
          "output_type": "stream",
          "name": "stdout",
          "text": [
            "Me llamo Díego, estoy repasando un poco phyton\n"
          ]
        }
      ]
    },
    {
      "cell_type": "markdown",
      "source": [
        "1. imprimiendo la frase \"Escuela de Datos de Alura\""
      ],
      "metadata": {
        "id": "60S6BZ-gZjzx"
      }
    },
    {
      "cell_type": "code",
      "source": [
        "print('\"Escuela de Datos de Alura\"')"
      ],
      "metadata": {
        "colab": {
          "base_uri": "https://localhost:8080/"
        },
        "id": "bRnCPkxsZeeY",
        "outputId": "e3b6f11a-f06a-4283-d295-8038f02169e3"
      },
      "execution_count": null,
      "outputs": [
        {
          "output_type": "stream",
          "name": "stdout",
          "text": [
            "\"Escuela de Datos de Alura\"\n"
          ]
        }
      ]
    },
    {
      "cell_type": "markdown",
      "source": [
        "2. Imprimiendo mi nombre y apellido"
      ],
      "metadata": {
        "id": "2CoQkCvNZ5H0"
      }
    },
    {
      "cell_type": "code",
      "source": [
        "n = 'Diego'\n",
        "a = 'maldonado'\n",
        "\n",
        "print('Nombre: ' + n)\n",
        "print('Apellido: ' + a)"
      ],
      "metadata": {
        "colab": {
          "base_uri": "https://localhost:8080/"
        },
        "id": "w6EWwxDKZ-bI",
        "outputId": "d74a9019-e22e-4c2f-a534-ef8c627b9f06"
      },
      "execution_count": null,
      "outputs": [
        {
          "output_type": "stream",
          "name": "stdout",
          "text": [
            "Nombre: Diego\n",
            "Apellido: maldonado\n"
          ]
        }
      ]
    },
    {
      "cell_type": "markdown",
      "source": [
        "3. Imprimiendo Nombre Letra por letra"
      ],
      "metadata": {
        "id": "rLIKuJfga7Lj"
      }
    },
    {
      "cell_type": "code",
      "source": [
        "print('D','I','E','G','O', sep ='\\n')"
      ],
      "metadata": {
        "colab": {
          "base_uri": "https://localhost:8080/"
        },
        "id": "a21i4m2cbARF",
        "outputId": "c45023dc-31b6-4668-855c-a37fccf12e84"
      },
      "execution_count": null,
      "outputs": [
        {
          "output_type": "stream",
          "name": "stdout",
          "text": [
            "D\n",
            "I\n",
            "E\n",
            "G\n",
            "O\n"
          ]
        }
      ]
    },
    {
      "cell_type": "markdown",
      "source": [
        "4. imprimiendo fecha de nacimiento en formato dia mes año"
      ],
      "metadata": {
        "id": "RJf5Duvqdu0n"
      }
    },
    {
      "cell_type": "code",
      "source": [
        "print(f'{27} Marzo {2025}')\n",
        "print(27,' Marzo ',2025)"
      ],
      "metadata": {
        "colab": {
          "base_uri": "https://localhost:8080/"
        },
        "id": "QlVwBz8Vd3ao",
        "outputId": "96b154e2-e65c-42bb-b755-2e39ec2c805f"
      },
      "execution_count": null,
      "outputs": [
        {
          "output_type": "stream",
          "name": "stdout",
          "text": [
            "27 Marzo 2025\n",
            "27  Marzo  2025\n"
          ]
        }
      ]
    },
    {
      "cell_type": "markdown",
      "source": [
        "5. Imprimiendo el año actual"
      ],
      "metadata": {
        "id": "NHD3FP-0q6I6"
      }
    },
    {
      "cell_type": "code",
      "source": [
        "from datetime import datetime\n",
        "año = datetime.now().year\n",
        "print(f'Año actual: {año}')\n",
        "print('Año actual:', año)"
      ],
      "metadata": {
        "colab": {
          "base_uri": "https://localhost:8080/"
        },
        "id": "I4bPQD00rKhG",
        "outputId": "cebb901b-383e-4265-bc18-4c72433c5fc6"
      },
      "execution_count": null,
      "outputs": [
        {
          "output_type": "stream",
          "name": "stdout",
          "text": [
            "Año actual: 2025\n",
            "Año actual:  2025\n"
          ]
        }
      ]
    },
    {
      "cell_type": "markdown",
      "source": [
        "##Variables"
      ],
      "metadata": {
        "id": "KwTHHWzRywTU"
      }
    },
    {
      "cell_type": "markdown",
      "source": [
        "ejemplo de variables"
      ],
      "metadata": {
        "id": "Ov5UMqjDyzB9"
      }
    },
    {
      "cell_type": "code",
      "source": [
        "d = 5\n",
        "c = 'diego'\n",
        "\n",
        "print(id(d))\n",
        "print(id(c))"
      ],
      "metadata": {
        "colab": {
          "base_uri": "https://localhost:8080/"
        },
        "id": "tDT9PMsUy26-",
        "outputId": "c7fa25d0-f686-4d21-c46c-c5e454535942"
      },
      "execution_count": null,
      "outputs": [
        {
          "output_type": "stream",
          "name": "stdout",
          "text": [
            "10750984\n",
            "136839110404272\n"
          ]
        }
      ]
    },
    {
      "cell_type": "markdown",
      "source": [
        "comentarios:"
      ],
      "metadata": {
        "id": "Ayln090Y2OhG"
      }
    },
    {
      "cell_type": "code",
      "source": [
        "#comentario de una linea\n",
        "'''\n",
        "Este es un comentario\n",
        "de varias lineas\n",
        "'''"
      ],
      "metadata": {
        "id": "IyiVogeN2Noj"
      },
      "execution_count": null,
      "outputs": []
    },
    {
      "cell_type": "markdown",
      "source": [
        "#Tipos de Variable"
      ],
      "metadata": {
        "id": "nAwkzV2T3cq-"
      }
    },
    {
      "cell_type": "markdown",
      "source": [
        "type() funcion, te dara el tipo de variable"
      ],
      "metadata": {
        "id": "0vfqVkoc3gfi"
      }
    },
    {
      "cell_type": "code",
      "source": [
        "edad = 5\n",
        "promedio = 3.4\n",
        "nombre = 'Diego'\n",
        "print(type(edad), type(promedio),type(nombre))\n"
      ],
      "metadata": {
        "colab": {
          "base_uri": "https://localhost:8080/"
        },
        "id": "m-Meq-Q_3gI6",
        "outputId": "b861e35a-9cbd-474e-d093-cbfed9785305"
      },
      "execution_count": null,
      "outputs": [
        {
          "output_type": "stream",
          "name": "stdout",
          "text": [
            "<class 'int'> <class 'float'> <class 'str'>\n"
          ]
        }
      ]
    },
    {
      "cell_type": "markdown",
      "source": [
        "### Ejemplo calculos"
      ],
      "metadata": {
        "id": "mGj8xF7Y79QK"
      }
    },
    {
      "cell_type": "code",
      "source": [
        "c_vigilante = 5\n",
        "s_vigilante = 300\n",
        "\n",
        "c_docente = 16\n",
        "s_docente = 500\n",
        "\n",
        "c_coordinador = 2\n",
        "s_coordinador = 600\n",
        "\n",
        "total_empleados = c_vigilante + c_docente + c_coordinador\n",
        "diferencia_salarios = s_coordinador - s_vigilante\n",
        "promedio_salario = (c_vigilante*s_vigilante + c_docente*s_docente\n",
        "                    + c_coordinador*s_coordinador)/total_empleados\n",
        "\n",
        "print(total_empleados,diferencia_salarios,promedio_salario)"
      ],
      "metadata": {
        "colab": {
          "base_uri": "https://localhost:8080/"
        },
        "id": "RHXKp_Os6HNV",
        "outputId": "66627ab7-dda2-455f-bef2-6c30ec53eb00"
      },
      "execution_count": null,
      "outputs": [
        {
          "output_type": "stream",
          "name": "stdout",
          "text": [
            "23 300 465.2173913043478\n"
          ]
        }
      ]
    },
    {
      "cell_type": "markdown",
      "source": [
        "##Strings"
      ],
      "metadata": {
        "id": "RDW7ip6HtkYy"
      }
    },
    {
      "cell_type": "markdown",
      "source": [
        "Un string es una cadena de caracteres alfanuméricos."
      ],
      "metadata": {
        "id": "xL9uLeUztozi"
      }
    },
    {
      "cell_type": "code",
      "source": [
        "t = 'Alura'\n",
        "type(t)"
      ],
      "metadata": {
        "colab": {
          "base_uri": "https://localhost:8080/"
        },
        "id": "Ua0Z52H8tx7a",
        "outputId": "16fa4f91-9bf6-45ee-b735-0505da80f19d"
      },
      "execution_count": null,
      "outputs": [
        {
          "output_type": "execute_result",
          "data": {
            "text/plain": [
              "str"
            ]
          },
          "metadata": {},
          "execution_count": 1
        }
      ]
    },
    {
      "cell_type": "markdown",
      "source": [
        "###Metodos\n",
        "\n",
        "para usar un metodo se utiliza la variable seguido de . y el nombre del metodo que se usara"
      ],
      "metadata": {
        "id": "ySt7kNzPue4r"
      }
    },
    {
      "cell_type": "code",
      "source": [
        "texto = ' Micaela Sanyos '"
      ],
      "metadata": {
        "id": "SSILENPkvAor"
      },
      "execution_count": null,
      "outputs": []
    },
    {
      "cell_type": "code",
      "source": [
        "id(texto)"
      ],
      "metadata": {
        "colab": {
          "base_uri": "https://localhost:8080/"
        },
        "id": "mF22jCSOvfkp",
        "outputId": "a873af18-76b0-4551-eabc-264ac506d996"
      },
      "execution_count": null,
      "outputs": [
        {
          "output_type": "execute_result",
          "data": {
            "text/plain": [
              "133735582200048"
            ]
          },
          "metadata": {},
          "execution_count": 5
        }
      ]
    },
    {
      "cell_type": "code",
      "source": [
        "texto.upper()"
      ],
      "metadata": {
        "colab": {
          "base_uri": "https://localhost:8080/",
          "height": 35
        },
        "id": "6hD98TiBv1_p",
        "outputId": "ca43519f-1b3f-4983-a518-48a5d8d6ceb5"
      },
      "execution_count": null,
      "outputs": [
        {
          "output_type": "execute_result",
          "data": {
            "text/plain": [
              "' MICAELA SANYOS '"
            ],
            "application/vnd.google.colaboratory.intrinsic+json": {
              "type": "string"
            }
          },
          "metadata": {},
          "execution_count": 6
        }
      ]
    },
    {
      "cell_type": "code",
      "source": [
        "texto.lower()"
      ],
      "metadata": {
        "colab": {
          "base_uri": "https://localhost:8080/",
          "height": 35
        },
        "id": "1ooH3muAwENu",
        "outputId": "5a72be70-71a2-496e-cc22-b668610010bc"
      },
      "execution_count": null,
      "outputs": [
        {
          "output_type": "execute_result",
          "data": {
            "text/plain": [
              "' micaela sanyos '"
            ],
            "application/vnd.google.colaboratory.intrinsic+json": {
              "type": "string"
            }
          },
          "metadata": {},
          "execution_count": 7
        }
      ]
    },
    {
      "cell_type": "code",
      "source": [
        "texto.strip()"
      ],
      "metadata": {
        "colab": {
          "base_uri": "https://localhost:8080/",
          "height": 35
        },
        "id": "Ky6vSrpcwYhs",
        "outputId": "1d727afc-574b-44fa-9dab-ab0b6f089850"
      },
      "execution_count": null,
      "outputs": [
        {
          "output_type": "execute_result",
          "data": {
            "text/plain": [
              "'Micaela Sanyos'"
            ],
            "application/vnd.google.colaboratory.intrinsic+json": {
              "type": "string"
            }
          },
          "metadata": {},
          "execution_count": 8
        }
      ]
    },
    {
      "cell_type": "code",
      "source": [
        "texto.replace('y','t')"
      ],
      "metadata": {
        "colab": {
          "base_uri": "https://localhost:8080/",
          "height": 35
        },
        "id": "y11CO2IPwoEN",
        "outputId": "405156e6-5213-45b3-db5b-25f5e8538d62"
      },
      "execution_count": null,
      "outputs": [
        {
          "output_type": "execute_result",
          "data": {
            "text/plain": [
              "' Micaela Santos '"
            ],
            "application/vnd.google.colaboratory.intrinsic+json": {
              "type": "string"
            }
          },
          "metadata": {},
          "execution_count": 9
        }
      ]
    },
    {
      "cell_type": "markdown",
      "source": [
        "Siempre apuntar la variable a una nueva para que se tome la modificacion"
      ],
      "metadata": {
        "id": "p--Q8DjoxdSw"
      }
    },
    {
      "cell_type": "code",
      "source": [
        "nuevo_texto = texto.strip().replace('y','t').upper()\n",
        "print(nuevo_texto)\n",
        "print(id(nuevo_texto))\n",
        "print(id(texto))"
      ],
      "metadata": {
        "colab": {
          "base_uri": "https://localhost:8080/"
        },
        "id": "g3wN_UnTxb3h",
        "outputId": "db7243f1-15bd-49d1-eeef-75c846328759"
      },
      "execution_count": null,
      "outputs": [
        {
          "output_type": "stream",
          "name": "stdout",
          "text": [
            "MICAELA SANTOS\n",
            "133736006220208\n",
            "133735582200048\n"
          ]
        }
      ]
    },
    {
      "cell_type": "code",
      "source": [
        "texto = texto.strip().replace('y','t').upper()\n",
        "print(nuevo_texto)\n",
        "print(id(nuevo_texto))\n",
        "print(id(texto))"
      ],
      "metadata": {
        "colab": {
          "base_uri": "https://localhost:8080/"
        },
        "id": "Wi9URraNyd5x",
        "outputId": "765a17ce-d5fc-4591-bc4d-78a467ece5f6"
      },
      "execution_count": null,
      "outputs": [
        {
          "output_type": "stream",
          "name": "stdout",
          "text": [
            "MICAELA SANTOS\n",
            "133736006220208\n",
            "133735580464112\n"
          ]
        }
      ]
    },
    {
      "cell_type": "markdown",
      "source": [
        "##Calculos Matematicos"
      ],
      "metadata": {
        "id": "-5VFT8qAzZ31"
      }
    },
    {
      "cell_type": "markdown",
      "source": [
        "potencia **\n",
        "\n",
        "Podemos elevar un número a una potencia específica utilizando el operador **. Para obtener este resultado, definimos un valor a la izquierda del operador y la potencia deseada del número a la derecha. Por ejemplo, sabemos que 2 elevado a la 3 es igual a 8 (2 * 2 * 2 = 8)."
      ],
      "metadata": {
        "id": "MVuELmsK0Y_L"
      }
    },
    {
      "cell_type": "code",
      "source": [
        "exponentecuadrado = 2**2\n",
        "print(exponentecuadrado)\n",
        "operador = 2\n",
        "potencia = 3\n",
        "print(operador ** potencia)"
      ],
      "metadata": {
        "colab": {
          "base_uri": "https://localhost:8080/"
        },
        "id": "w5dgW-yszk97",
        "outputId": "8b26f816-527a-4d8f-b102-86d9a81d9743"
      },
      "execution_count": null,
      "outputs": [
        {
          "output_type": "stream",
          "name": "stdout",
          "text": [
            "4\n",
            "8\n"
          ]
        }
      ]
    },
    {
      "cell_type": "markdown",
      "source": [
        "modulo %\n",
        "\n",
        "El operador de módulo % puede devolver el residuo de una división entera entre dos números. Recuerda que el residuo de una división es el número que queda cuando la división no es exacta.\n",
        "\n",
        "Para calcular el módulo de una división, colocamos el dividendo a la izquierda del operador % y el divisor a la derecha. Por ejemplo, para encontrar el residuo de la división de 7 entre 3"
      ],
      "metadata": {
        "id": "Lvlinr0f0bLd"
      }
    },
    {
      "cell_type": "code",
      "source": [
        "print(7%3)\n",
        "dividendo = 7\n",
        "divisor = 3\n",
        "print(dividendo % divisor)"
      ],
      "metadata": {
        "colab": {
          "base_uri": "https://localhost:8080/"
        },
        "id": "e9Epytpt0anf",
        "outputId": "08a0a2bd-8d16-4c2f-eba4-e0e44c9e7baa"
      },
      "execution_count": null,
      "outputs": [
        {
          "output_type": "stream",
          "name": "stdout",
          "text": [
            "1\n",
            "1\n"
          ]
        }
      ]
    },
    {
      "cell_type": "markdown",
      "source": [
        "Division entera (//)\n",
        "\n",
        "Esta operación devuelve el resultado de la división entera entre dos números, es decir, solo devuelve la parte entera de una división. Por ejemplo, sabemos que la división exacta de 7 por 3 (7/3) resulta en el valor 2.333333.... Si esta fuera una división entera, el resultado sería simplemente 2. La sintaxis consiste en colocar el valor del numerador, el operador // y luego el denominador"
      ],
      "metadata": {
        "id": "rZjK3Kfo1UzR"
      }
    },
    {
      "cell_type": "code",
      "source": [
        "numerador = 7\n",
        "denominador = 3\n",
        "print(numerador//denominador)"
      ],
      "metadata": {
        "id": "wJPPfmZQ1aGj",
        "colab": {
          "base_uri": "https://localhost:8080/"
        },
        "outputId": "85d1c538-1438-4f86-d226-86f6a2870b04"
      },
      "execution_count": null,
      "outputs": [
        {
          "output_type": "stream",
          "name": "stdout",
          "text": [
            "2\n"
          ]
        }
      ]
    }
  ]
}